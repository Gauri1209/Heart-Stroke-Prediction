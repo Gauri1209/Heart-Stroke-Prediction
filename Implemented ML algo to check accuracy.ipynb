{
 "cells": [
  {
   "cell_type": "markdown",
   "metadata": {},
   "source": [
    "# Problem Statement"
   ]
  },
  {
   "cell_type": "markdown",
   "metadata": {},
   "source": [
    "HEART STROKE ANALYSIS USING MACHINE LEARNING TECHNIQUES"
   ]
  },
  {
   "cell_type": "markdown",
   "metadata": {},
   "source": [
    "Based on the training dataset, we will develop a model to predict whether a person suffers from heart stroke or not."
   ]
  },
  {
   "cell_type": "markdown",
   "metadata": {},
   "source": [
    "# Data Description"
   ]
  },
  {
   "cell_type": "markdown",
   "metadata": {},
   "source": [
    "- id - ID number\n",
    "- age - person's age (number of days)\n",
    "- gender - person's gender (1-Female , 2-Male)\n",
    "- height - person's height (in cm)\n",
    "- weight - person's weight (in kg)\n",
    "- ap_hi - Systolic blood pressure\n",
    "- ap_lo - Diastolic blood pressure\n",
    "- cholesterol - person's cholesterol level (1-Normal , 2-Above normal , 3-Well above normal)\n",
    "- gluc - person's glucose level (1-Normal , 2-Above normal , 3-Well above normal)\n",
    "- smoke - Whether patient smokes or not (0-Does not smoke , 1-Smoke)\n",
    "- alco - Alcohol intake (0-Does not take alcohol , 1-Take alcohol)\n",
    "- active - Physical activity (0-No activity , 1-Physical activity)\n",
    "- cardio - Target variable (0-No stroke , 1-Stroke)"
   ]
  },
  {
   "cell_type": "markdown",
   "metadata": {},
   "source": [
    "# Loading the dataset"
   ]
  },
  {
   "cell_type": "code",
   "execution_count": 2,
   "metadata": {},
   "outputs": [],
   "source": [
    "import pandas as pd\n",
    "import numpy as np\n",
    "from numpy import argmax\n",
    "from numpy import array\n",
    "\n",
    "import matplotlib.pyplot as plt\n",
    "from matplotlib import rcParams\n",
    "from matplotlib.cm import rainbow\n",
    "%matplotlib inline\n",
    "\n",
    "import warnings\n",
    "warnings.filterwarnings(\"ignore\")\n",
    "\n",
    "from sklearn.model_selection import train_test_split\n",
    "from sklearn.preprocessing import StandardScaler\n",
    "from sklearn.preprocessing import LabelEncoder\n",
    "from sklearn.preprocessing import OneHotEncoder"
   ]
  },
  {
   "cell_type": "code",
   "execution_count": 3,
   "metadata": {},
   "outputs": [],
   "source": [
    "df = pd.read_csv(r\"Desktop\\heart_data.csv\")"
   ]
  },
  {
   "cell_type": "code",
   "execution_count": 3,
   "metadata": {},
   "outputs": [
    {
     "data": {
      "text/plain": [
       "(70000, 13)"
      ]
     },
     "execution_count": 3,
     "metadata": {},
     "output_type": "execute_result"
    }
   ],
   "source": [
    "df.shape"
   ]
  },
  {
   "cell_type": "code",
   "execution_count": 4,
   "metadata": {},
   "outputs": [
    {
     "data": {
      "text/html": [
       "<div>\n",
       "<style scoped>\n",
       "    .dataframe tbody tr th:only-of-type {\n",
       "        vertical-align: middle;\n",
       "    }\n",
       "\n",
       "    .dataframe tbody tr th {\n",
       "        vertical-align: top;\n",
       "    }\n",
       "\n",
       "    .dataframe thead th {\n",
       "        text-align: right;\n",
       "    }\n",
       "</style>\n",
       "<table border=\"1\" class=\"dataframe\">\n",
       "  <thead>\n",
       "    <tr style=\"text-align: right;\">\n",
       "      <th></th>\n",
       "      <th>id</th>\n",
       "      <th>age</th>\n",
       "      <th>gender</th>\n",
       "      <th>height</th>\n",
       "      <th>weight</th>\n",
       "      <th>ap_hi</th>\n",
       "      <th>ap_lo</th>\n",
       "      <th>cholesterol</th>\n",
       "      <th>gluc</th>\n",
       "      <th>smoke</th>\n",
       "      <th>alco</th>\n",
       "      <th>active</th>\n",
       "      <th>cardio</th>\n",
       "    </tr>\n",
       "  </thead>\n",
       "  <tbody>\n",
       "    <tr>\n",
       "      <td>0</td>\n",
       "      <td>0</td>\n",
       "      <td>50</td>\n",
       "      <td>2</td>\n",
       "      <td>168</td>\n",
       "      <td>62.0</td>\n",
       "      <td>110</td>\n",
       "      <td>80</td>\n",
       "      <td>1</td>\n",
       "      <td>1</td>\n",
       "      <td>0</td>\n",
       "      <td>0</td>\n",
       "      <td>1</td>\n",
       "      <td>0</td>\n",
       "    </tr>\n",
       "    <tr>\n",
       "      <td>1</td>\n",
       "      <td>1</td>\n",
       "      <td>55</td>\n",
       "      <td>1</td>\n",
       "      <td>156</td>\n",
       "      <td>85.0</td>\n",
       "      <td>140</td>\n",
       "      <td>90</td>\n",
       "      <td>3</td>\n",
       "      <td>1</td>\n",
       "      <td>0</td>\n",
       "      <td>0</td>\n",
       "      <td>1</td>\n",
       "      <td>1</td>\n",
       "    </tr>\n",
       "    <tr>\n",
       "      <td>2</td>\n",
       "      <td>2</td>\n",
       "      <td>52</td>\n",
       "      <td>1</td>\n",
       "      <td>165</td>\n",
       "      <td>64.0</td>\n",
       "      <td>130</td>\n",
       "      <td>70</td>\n",
       "      <td>3</td>\n",
       "      <td>1</td>\n",
       "      <td>0</td>\n",
       "      <td>0</td>\n",
       "      <td>0</td>\n",
       "      <td>1</td>\n",
       "    </tr>\n",
       "    <tr>\n",
       "      <td>3</td>\n",
       "      <td>3</td>\n",
       "      <td>48</td>\n",
       "      <td>2</td>\n",
       "      <td>169</td>\n",
       "      <td>82.0</td>\n",
       "      <td>150</td>\n",
       "      <td>100</td>\n",
       "      <td>1</td>\n",
       "      <td>1</td>\n",
       "      <td>0</td>\n",
       "      <td>0</td>\n",
       "      <td>1</td>\n",
       "      <td>1</td>\n",
       "    </tr>\n",
       "    <tr>\n",
       "      <td>4</td>\n",
       "      <td>4</td>\n",
       "      <td>48</td>\n",
       "      <td>1</td>\n",
       "      <td>156</td>\n",
       "      <td>56.0</td>\n",
       "      <td>100</td>\n",
       "      <td>60</td>\n",
       "      <td>1</td>\n",
       "      <td>1</td>\n",
       "      <td>0</td>\n",
       "      <td>0</td>\n",
       "      <td>0</td>\n",
       "      <td>0</td>\n",
       "    </tr>\n",
       "  </tbody>\n",
       "</table>\n",
       "</div>"
      ],
      "text/plain": [
       "   id  age  gender  height  weight  ap_hi  ap_lo  cholesterol  gluc  smoke  \\\n",
       "0   0   50       2     168    62.0    110     80            1     1      0   \n",
       "1   1   55       1     156    85.0    140     90            3     1      0   \n",
       "2   2   52       1     165    64.0    130     70            3     1      0   \n",
       "3   3   48       2     169    82.0    150    100            1     1      0   \n",
       "4   4   48       1     156    56.0    100     60            1     1      0   \n",
       "\n",
       "   alco  active  cardio  \n",
       "0     0       1       0  \n",
       "1     0       1       1  \n",
       "2     0       0       1  \n",
       "3     0       1       1  \n",
       "4     0       0       0  "
      ]
     },
     "execution_count": 4,
     "metadata": {},
     "output_type": "execute_result"
    }
   ],
   "source": [
    "df.head()"
   ]
  },
  {
   "cell_type": "markdown",
   "metadata": {},
   "source": [
    "# Data Preprocessing"
   ]
  },
  {
   "cell_type": "code",
   "execution_count": 5,
   "metadata": {},
   "outputs": [
    {
     "data": {
      "text/html": [
       "<div>\n",
       "<style scoped>\n",
       "    .dataframe tbody tr th:only-of-type {\n",
       "        vertical-align: middle;\n",
       "    }\n",
       "\n",
       "    .dataframe tbody tr th {\n",
       "        vertical-align: top;\n",
       "    }\n",
       "\n",
       "    .dataframe thead th {\n",
       "        text-align: right;\n",
       "    }\n",
       "</style>\n",
       "<table border=\"1\" class=\"dataframe\">\n",
       "  <thead>\n",
       "    <tr style=\"text-align: right;\">\n",
       "      <th></th>\n",
       "      <th>id</th>\n",
       "      <th>age</th>\n",
       "      <th>gender</th>\n",
       "      <th>height</th>\n",
       "      <th>weight</th>\n",
       "      <th>ap_hi</th>\n",
       "      <th>ap_lo</th>\n",
       "      <th>cholesterol</th>\n",
       "      <th>gluc</th>\n",
       "      <th>smoke</th>\n",
       "      <th>alco</th>\n",
       "      <th>active</th>\n",
       "      <th>cardio</th>\n",
       "    </tr>\n",
       "  </thead>\n",
       "  <tbody>\n",
       "    <tr>\n",
       "      <td>count</td>\n",
       "      <td>70000.000000</td>\n",
       "      <td>70000.000000</td>\n",
       "      <td>70000.000000</td>\n",
       "      <td>70000.000000</td>\n",
       "      <td>70000.000000</td>\n",
       "      <td>70000.000000</td>\n",
       "      <td>70000.000000</td>\n",
       "      <td>70000.000000</td>\n",
       "      <td>70000.000000</td>\n",
       "      <td>70000.000000</td>\n",
       "      <td>70000.000000</td>\n",
       "      <td>70000.000000</td>\n",
       "      <td>70000.000000</td>\n",
       "    </tr>\n",
       "    <tr>\n",
       "      <td>mean</td>\n",
       "      <td>49972.419900</td>\n",
       "      <td>53.338686</td>\n",
       "      <td>1.349571</td>\n",
       "      <td>164.359229</td>\n",
       "      <td>74.205690</td>\n",
       "      <td>128.817286</td>\n",
       "      <td>96.630414</td>\n",
       "      <td>1.366871</td>\n",
       "      <td>1.226457</td>\n",
       "      <td>0.088129</td>\n",
       "      <td>0.053771</td>\n",
       "      <td>0.803729</td>\n",
       "      <td>0.499700</td>\n",
       "    </tr>\n",
       "    <tr>\n",
       "      <td>std</td>\n",
       "      <td>28851.302323</td>\n",
       "      <td>6.765294</td>\n",
       "      <td>0.476838</td>\n",
       "      <td>8.210126</td>\n",
       "      <td>14.395757</td>\n",
       "      <td>154.011419</td>\n",
       "      <td>188.472530</td>\n",
       "      <td>0.680250</td>\n",
       "      <td>0.572270</td>\n",
       "      <td>0.283484</td>\n",
       "      <td>0.225568</td>\n",
       "      <td>0.397179</td>\n",
       "      <td>0.500003</td>\n",
       "    </tr>\n",
       "    <tr>\n",
       "      <td>min</td>\n",
       "      <td>0.000000</td>\n",
       "      <td>30.000000</td>\n",
       "      <td>1.000000</td>\n",
       "      <td>55.000000</td>\n",
       "      <td>10.000000</td>\n",
       "      <td>-150.000000</td>\n",
       "      <td>-70.000000</td>\n",
       "      <td>1.000000</td>\n",
       "      <td>1.000000</td>\n",
       "      <td>0.000000</td>\n",
       "      <td>0.000000</td>\n",
       "      <td>0.000000</td>\n",
       "      <td>0.000000</td>\n",
       "    </tr>\n",
       "    <tr>\n",
       "      <td>25%</td>\n",
       "      <td>25006.750000</td>\n",
       "      <td>48.000000</td>\n",
       "      <td>1.000000</td>\n",
       "      <td>159.000000</td>\n",
       "      <td>65.000000</td>\n",
       "      <td>120.000000</td>\n",
       "      <td>80.000000</td>\n",
       "      <td>1.000000</td>\n",
       "      <td>1.000000</td>\n",
       "      <td>0.000000</td>\n",
       "      <td>0.000000</td>\n",
       "      <td>1.000000</td>\n",
       "      <td>0.000000</td>\n",
       "    </tr>\n",
       "    <tr>\n",
       "      <td>50%</td>\n",
       "      <td>50001.500000</td>\n",
       "      <td>54.000000</td>\n",
       "      <td>1.000000</td>\n",
       "      <td>165.000000</td>\n",
       "      <td>72.000000</td>\n",
       "      <td>120.000000</td>\n",
       "      <td>80.000000</td>\n",
       "      <td>1.000000</td>\n",
       "      <td>1.000000</td>\n",
       "      <td>0.000000</td>\n",
       "      <td>0.000000</td>\n",
       "      <td>1.000000</td>\n",
       "      <td>0.000000</td>\n",
       "    </tr>\n",
       "    <tr>\n",
       "      <td>75%</td>\n",
       "      <td>74889.250000</td>\n",
       "      <td>58.000000</td>\n",
       "      <td>2.000000</td>\n",
       "      <td>170.000000</td>\n",
       "      <td>82.000000</td>\n",
       "      <td>140.000000</td>\n",
       "      <td>90.000000</td>\n",
       "      <td>2.000000</td>\n",
       "      <td>1.000000</td>\n",
       "      <td>0.000000</td>\n",
       "      <td>0.000000</td>\n",
       "      <td>1.000000</td>\n",
       "      <td>1.000000</td>\n",
       "    </tr>\n",
       "    <tr>\n",
       "      <td>max</td>\n",
       "      <td>99999.000000</td>\n",
       "      <td>65.000000</td>\n",
       "      <td>2.000000</td>\n",
       "      <td>250.000000</td>\n",
       "      <td>200.000000</td>\n",
       "      <td>16020.000000</td>\n",
       "      <td>11000.000000</td>\n",
       "      <td>3.000000</td>\n",
       "      <td>3.000000</td>\n",
       "      <td>1.000000</td>\n",
       "      <td>1.000000</td>\n",
       "      <td>1.000000</td>\n",
       "      <td>1.000000</td>\n",
       "    </tr>\n",
       "  </tbody>\n",
       "</table>\n",
       "</div>"
      ],
      "text/plain": [
       "                 id           age        gender        height        weight  \\\n",
       "count  70000.000000  70000.000000  70000.000000  70000.000000  70000.000000   \n",
       "mean   49972.419900     53.338686      1.349571    164.359229     74.205690   \n",
       "std    28851.302323      6.765294      0.476838      8.210126     14.395757   \n",
       "min        0.000000     30.000000      1.000000     55.000000     10.000000   \n",
       "25%    25006.750000     48.000000      1.000000    159.000000     65.000000   \n",
       "50%    50001.500000     54.000000      1.000000    165.000000     72.000000   \n",
       "75%    74889.250000     58.000000      2.000000    170.000000     82.000000   \n",
       "max    99999.000000     65.000000      2.000000    250.000000    200.000000   \n",
       "\n",
       "              ap_hi         ap_lo   cholesterol          gluc         smoke  \\\n",
       "count  70000.000000  70000.000000  70000.000000  70000.000000  70000.000000   \n",
       "mean     128.817286     96.630414      1.366871      1.226457      0.088129   \n",
       "std      154.011419    188.472530      0.680250      0.572270      0.283484   \n",
       "min     -150.000000    -70.000000      1.000000      1.000000      0.000000   \n",
       "25%      120.000000     80.000000      1.000000      1.000000      0.000000   \n",
       "50%      120.000000     80.000000      1.000000      1.000000      0.000000   \n",
       "75%      140.000000     90.000000      2.000000      1.000000      0.000000   \n",
       "max    16020.000000  11000.000000      3.000000      3.000000      1.000000   \n",
       "\n",
       "               alco        active        cardio  \n",
       "count  70000.000000  70000.000000  70000.000000  \n",
       "mean       0.053771      0.803729      0.499700  \n",
       "std        0.225568      0.397179      0.500003  \n",
       "min        0.000000      0.000000      0.000000  \n",
       "25%        0.000000      1.000000      0.000000  \n",
       "50%        0.000000      1.000000      0.000000  \n",
       "75%        0.000000      1.000000      1.000000  \n",
       "max        1.000000      1.000000      1.000000  "
      ]
     },
     "execution_count": 5,
     "metadata": {},
     "output_type": "execute_result"
    }
   ],
   "source": [
    "df.describe()"
   ]
  },
  {
   "cell_type": "code",
   "execution_count": 6,
   "metadata": {},
   "outputs": [
    {
     "data": {
      "text/html": [
       "<div>\n",
       "<style scoped>\n",
       "    .dataframe tbody tr th:only-of-type {\n",
       "        vertical-align: middle;\n",
       "    }\n",
       "\n",
       "    .dataframe tbody tr th {\n",
       "        vertical-align: top;\n",
       "    }\n",
       "\n",
       "    .dataframe thead th {\n",
       "        text-align: right;\n",
       "    }\n",
       "</style>\n",
       "<table border=\"1\" class=\"dataframe\">\n",
       "  <thead>\n",
       "    <tr style=\"text-align: right;\">\n",
       "      <th></th>\n",
       "      <th>id</th>\n",
       "      <th>age</th>\n",
       "      <th>gender</th>\n",
       "      <th>height</th>\n",
       "      <th>weight</th>\n",
       "      <th>ap_hi</th>\n",
       "      <th>ap_lo</th>\n",
       "      <th>cholesterol</th>\n",
       "      <th>gluc</th>\n",
       "      <th>smoke</th>\n",
       "      <th>alco</th>\n",
       "      <th>active</th>\n",
       "      <th>cardio</th>\n",
       "    </tr>\n",
       "  </thead>\n",
       "  <tbody>\n",
       "    <tr>\n",
       "      <td>count</td>\n",
       "      <td>70000.000000</td>\n",
       "      <td>70000.000000</td>\n",
       "      <td>70000.000000</td>\n",
       "      <td>70000.000000</td>\n",
       "      <td>70000.000000</td>\n",
       "      <td>70000.000000</td>\n",
       "      <td>70000.000000</td>\n",
       "      <td>70000.000000</td>\n",
       "      <td>70000.000000</td>\n",
       "      <td>70000.000000</td>\n",
       "      <td>70000.000000</td>\n",
       "      <td>70000.000000</td>\n",
       "      <td>70000.000000</td>\n",
       "    </tr>\n",
       "    <tr>\n",
       "      <td>mean</td>\n",
       "      <td>49972.419900</td>\n",
       "      <td>53.338686</td>\n",
       "      <td>1.349571</td>\n",
       "      <td>164.359229</td>\n",
       "      <td>74.205690</td>\n",
       "      <td>128.817286</td>\n",
       "      <td>96.630414</td>\n",
       "      <td>1.366871</td>\n",
       "      <td>1.226457</td>\n",
       "      <td>0.088129</td>\n",
       "      <td>0.053771</td>\n",
       "      <td>0.803729</td>\n",
       "      <td>0.499700</td>\n",
       "    </tr>\n",
       "    <tr>\n",
       "      <td>std</td>\n",
       "      <td>28851.302323</td>\n",
       "      <td>6.765294</td>\n",
       "      <td>0.476838</td>\n",
       "      <td>8.210126</td>\n",
       "      <td>14.395757</td>\n",
       "      <td>154.011419</td>\n",
       "      <td>188.472530</td>\n",
       "      <td>0.680250</td>\n",
       "      <td>0.572270</td>\n",
       "      <td>0.283484</td>\n",
       "      <td>0.225568</td>\n",
       "      <td>0.397179</td>\n",
       "      <td>0.500003</td>\n",
       "    </tr>\n",
       "    <tr>\n",
       "      <td>min</td>\n",
       "      <td>0.000000</td>\n",
       "      <td>30.000000</td>\n",
       "      <td>1.000000</td>\n",
       "      <td>55.000000</td>\n",
       "      <td>10.000000</td>\n",
       "      <td>-150.000000</td>\n",
       "      <td>-70.000000</td>\n",
       "      <td>1.000000</td>\n",
       "      <td>1.000000</td>\n",
       "      <td>0.000000</td>\n",
       "      <td>0.000000</td>\n",
       "      <td>0.000000</td>\n",
       "      <td>0.000000</td>\n",
       "    </tr>\n",
       "    <tr>\n",
       "      <td>25%</td>\n",
       "      <td>25006.750000</td>\n",
       "      <td>48.000000</td>\n",
       "      <td>1.000000</td>\n",
       "      <td>159.000000</td>\n",
       "      <td>65.000000</td>\n",
       "      <td>120.000000</td>\n",
       "      <td>80.000000</td>\n",
       "      <td>1.000000</td>\n",
       "      <td>1.000000</td>\n",
       "      <td>0.000000</td>\n",
       "      <td>0.000000</td>\n",
       "      <td>1.000000</td>\n",
       "      <td>0.000000</td>\n",
       "    </tr>\n",
       "    <tr>\n",
       "      <td>50%</td>\n",
       "      <td>50001.500000</td>\n",
       "      <td>54.000000</td>\n",
       "      <td>1.000000</td>\n",
       "      <td>165.000000</td>\n",
       "      <td>72.000000</td>\n",
       "      <td>120.000000</td>\n",
       "      <td>80.000000</td>\n",
       "      <td>1.000000</td>\n",
       "      <td>1.000000</td>\n",
       "      <td>0.000000</td>\n",
       "      <td>0.000000</td>\n",
       "      <td>1.000000</td>\n",
       "      <td>0.000000</td>\n",
       "    </tr>\n",
       "    <tr>\n",
       "      <td>75%</td>\n",
       "      <td>74889.250000</td>\n",
       "      <td>58.000000</td>\n",
       "      <td>2.000000</td>\n",
       "      <td>170.000000</td>\n",
       "      <td>82.000000</td>\n",
       "      <td>140.000000</td>\n",
       "      <td>90.000000</td>\n",
       "      <td>2.000000</td>\n",
       "      <td>1.000000</td>\n",
       "      <td>0.000000</td>\n",
       "      <td>0.000000</td>\n",
       "      <td>1.000000</td>\n",
       "      <td>1.000000</td>\n",
       "    </tr>\n",
       "    <tr>\n",
       "      <td>max</td>\n",
       "      <td>99999.000000</td>\n",
       "      <td>65.000000</td>\n",
       "      <td>2.000000</td>\n",
       "      <td>250.000000</td>\n",
       "      <td>200.000000</td>\n",
       "      <td>16020.000000</td>\n",
       "      <td>11000.000000</td>\n",
       "      <td>3.000000</td>\n",
       "      <td>3.000000</td>\n",
       "      <td>1.000000</td>\n",
       "      <td>1.000000</td>\n",
       "      <td>1.000000</td>\n",
       "      <td>1.000000</td>\n",
       "    </tr>\n",
       "  </tbody>\n",
       "</table>\n",
       "</div>"
      ],
      "text/plain": [
       "                 id           age        gender        height        weight  \\\n",
       "count  70000.000000  70000.000000  70000.000000  70000.000000  70000.000000   \n",
       "mean   49972.419900     53.338686      1.349571    164.359229     74.205690   \n",
       "std    28851.302323      6.765294      0.476838      8.210126     14.395757   \n",
       "min        0.000000     30.000000      1.000000     55.000000     10.000000   \n",
       "25%    25006.750000     48.000000      1.000000    159.000000     65.000000   \n",
       "50%    50001.500000     54.000000      1.000000    165.000000     72.000000   \n",
       "75%    74889.250000     58.000000      2.000000    170.000000     82.000000   \n",
       "max    99999.000000     65.000000      2.000000    250.000000    200.000000   \n",
       "\n",
       "              ap_hi         ap_lo   cholesterol          gluc         smoke  \\\n",
       "count  70000.000000  70000.000000  70000.000000  70000.000000  70000.000000   \n",
       "mean     128.817286     96.630414      1.366871      1.226457      0.088129   \n",
       "std      154.011419    188.472530      0.680250      0.572270      0.283484   \n",
       "min     -150.000000    -70.000000      1.000000      1.000000      0.000000   \n",
       "25%      120.000000     80.000000      1.000000      1.000000      0.000000   \n",
       "50%      120.000000     80.000000      1.000000      1.000000      0.000000   \n",
       "75%      140.000000     90.000000      2.000000      1.000000      0.000000   \n",
       "max    16020.000000  11000.000000      3.000000      3.000000      1.000000   \n",
       "\n",
       "               alco        active        cardio  \n",
       "count  70000.000000  70000.000000  70000.000000  \n",
       "mean       0.053771      0.803729      0.499700  \n",
       "std        0.225568      0.397179      0.500003  \n",
       "min        0.000000      0.000000      0.000000  \n",
       "25%        0.000000      1.000000      0.000000  \n",
       "50%        0.000000      1.000000      0.000000  \n",
       "75%        0.000000      1.000000      1.000000  \n",
       "max        1.000000      1.000000      1.000000  "
      ]
     },
     "execution_count": 6,
     "metadata": {},
     "output_type": "execute_result"
    }
   ],
   "source": [
    "df.describe(include='all')"
   ]
  },
  {
   "cell_type": "markdown",
   "metadata": {},
   "source": [
    "- Thus we see all variables are continuous, there are no categorical variables.\n",
    "- Comparing the 75% and the max value, determines the presence of outliers.\n",
    "- By observing the count of all variables we get to know that there are no missing values."
   ]
  },
  {
   "cell_type": "code",
   "execution_count": 7,
   "metadata": {},
   "outputs": [
    {
     "data": {
      "text/plain": [
       "id             0\n",
       "age            0\n",
       "gender         0\n",
       "height         0\n",
       "weight         0\n",
       "ap_hi          0\n",
       "ap_lo          0\n",
       "cholesterol    0\n",
       "gluc           0\n",
       "smoke          0\n",
       "alco           0\n",
       "active         0\n",
       "cardio         0\n",
       "dtype: int64"
      ]
     },
     "execution_count": 7,
     "metadata": {},
     "output_type": "execute_result"
    }
   ],
   "source": [
    "df.isnull().sum()"
   ]
  },
  {
   "cell_type": "code",
   "execution_count": 8,
   "metadata": {},
   "outputs": [
    {
     "data": {
      "text/plain": [
       "id               int64\n",
       "age              int64\n",
       "gender           int64\n",
       "height           int64\n",
       "weight         float64\n",
       "ap_hi            int64\n",
       "ap_lo            int64\n",
       "cholesterol      int64\n",
       "gluc             int64\n",
       "smoke            int64\n",
       "alco             int64\n",
       "active           int64\n",
       "cardio           int64\n",
       "dtype: object"
      ]
     },
     "execution_count": 8,
     "metadata": {},
     "output_type": "execute_result"
    }
   ],
   "source": [
    "df.dtypes"
   ]
  },
  {
   "cell_type": "markdown",
   "metadata": {},
   "source": [
    "- This verifies absence of categorical values as object data type is absent."
   ]
  },
  {
   "cell_type": "markdown",
   "metadata": {},
   "source": [
    "## Drop duplicates (if any)"
   ]
  },
  {
   "cell_type": "code",
   "execution_count": 9,
   "metadata": {},
   "outputs": [
    {
     "data": {
      "text/html": [
       "<div>\n",
       "<style scoped>\n",
       "    .dataframe tbody tr th:only-of-type {\n",
       "        vertical-align: middle;\n",
       "    }\n",
       "\n",
       "    .dataframe tbody tr th {\n",
       "        vertical-align: top;\n",
       "    }\n",
       "\n",
       "    .dataframe thead th {\n",
       "        text-align: right;\n",
       "    }\n",
       "</style>\n",
       "<table border=\"1\" class=\"dataframe\">\n",
       "  <thead>\n",
       "    <tr style=\"text-align: right;\">\n",
       "      <th></th>\n",
       "      <th>id</th>\n",
       "      <th>age</th>\n",
       "      <th>gender</th>\n",
       "      <th>height</th>\n",
       "      <th>weight</th>\n",
       "      <th>ap_hi</th>\n",
       "      <th>ap_lo</th>\n",
       "      <th>cholesterol</th>\n",
       "      <th>gluc</th>\n",
       "      <th>smoke</th>\n",
       "      <th>alco</th>\n",
       "      <th>active</th>\n",
       "      <th>cardio</th>\n",
       "    </tr>\n",
       "  </thead>\n",
       "  <tbody>\n",
       "    <tr>\n",
       "      <td>0</td>\n",
       "      <td>0</td>\n",
       "      <td>50</td>\n",
       "      <td>2</td>\n",
       "      <td>168</td>\n",
       "      <td>62.0</td>\n",
       "      <td>110</td>\n",
       "      <td>80</td>\n",
       "      <td>1</td>\n",
       "      <td>1</td>\n",
       "      <td>0</td>\n",
       "      <td>0</td>\n",
       "      <td>1</td>\n",
       "      <td>0</td>\n",
       "    </tr>\n",
       "    <tr>\n",
       "      <td>1</td>\n",
       "      <td>1</td>\n",
       "      <td>55</td>\n",
       "      <td>1</td>\n",
       "      <td>156</td>\n",
       "      <td>85.0</td>\n",
       "      <td>140</td>\n",
       "      <td>90</td>\n",
       "      <td>3</td>\n",
       "      <td>1</td>\n",
       "      <td>0</td>\n",
       "      <td>0</td>\n",
       "      <td>1</td>\n",
       "      <td>1</td>\n",
       "    </tr>\n",
       "    <tr>\n",
       "      <td>2</td>\n",
       "      <td>2</td>\n",
       "      <td>52</td>\n",
       "      <td>1</td>\n",
       "      <td>165</td>\n",
       "      <td>64.0</td>\n",
       "      <td>130</td>\n",
       "      <td>70</td>\n",
       "      <td>3</td>\n",
       "      <td>1</td>\n",
       "      <td>0</td>\n",
       "      <td>0</td>\n",
       "      <td>0</td>\n",
       "      <td>1</td>\n",
       "    </tr>\n",
       "    <tr>\n",
       "      <td>3</td>\n",
       "      <td>3</td>\n",
       "      <td>48</td>\n",
       "      <td>2</td>\n",
       "      <td>169</td>\n",
       "      <td>82.0</td>\n",
       "      <td>150</td>\n",
       "      <td>100</td>\n",
       "      <td>1</td>\n",
       "      <td>1</td>\n",
       "      <td>0</td>\n",
       "      <td>0</td>\n",
       "      <td>1</td>\n",
       "      <td>1</td>\n",
       "    </tr>\n",
       "    <tr>\n",
       "      <td>4</td>\n",
       "      <td>4</td>\n",
       "      <td>48</td>\n",
       "      <td>1</td>\n",
       "      <td>156</td>\n",
       "      <td>56.0</td>\n",
       "      <td>100</td>\n",
       "      <td>60</td>\n",
       "      <td>1</td>\n",
       "      <td>1</td>\n",
       "      <td>0</td>\n",
       "      <td>0</td>\n",
       "      <td>0</td>\n",
       "      <td>0</td>\n",
       "    </tr>\n",
       "    <tr>\n",
       "      <td>...</td>\n",
       "      <td>...</td>\n",
       "      <td>...</td>\n",
       "      <td>...</td>\n",
       "      <td>...</td>\n",
       "      <td>...</td>\n",
       "      <td>...</td>\n",
       "      <td>...</td>\n",
       "      <td>...</td>\n",
       "      <td>...</td>\n",
       "      <td>...</td>\n",
       "      <td>...</td>\n",
       "      <td>...</td>\n",
       "      <td>...</td>\n",
       "    </tr>\n",
       "    <tr>\n",
       "      <td>69995</td>\n",
       "      <td>99993</td>\n",
       "      <td>53</td>\n",
       "      <td>2</td>\n",
       "      <td>168</td>\n",
       "      <td>76.0</td>\n",
       "      <td>120</td>\n",
       "      <td>80</td>\n",
       "      <td>1</td>\n",
       "      <td>1</td>\n",
       "      <td>1</td>\n",
       "      <td>0</td>\n",
       "      <td>1</td>\n",
       "      <td>0</td>\n",
       "    </tr>\n",
       "    <tr>\n",
       "      <td>69996</td>\n",
       "      <td>99995</td>\n",
       "      <td>62</td>\n",
       "      <td>1</td>\n",
       "      <td>158</td>\n",
       "      <td>126.0</td>\n",
       "      <td>140</td>\n",
       "      <td>90</td>\n",
       "      <td>2</td>\n",
       "      <td>2</td>\n",
       "      <td>0</td>\n",
       "      <td>0</td>\n",
       "      <td>1</td>\n",
       "      <td>1</td>\n",
       "    </tr>\n",
       "    <tr>\n",
       "      <td>69997</td>\n",
       "      <td>99996</td>\n",
       "      <td>52</td>\n",
       "      <td>2</td>\n",
       "      <td>183</td>\n",
       "      <td>105.0</td>\n",
       "      <td>180</td>\n",
       "      <td>90</td>\n",
       "      <td>3</td>\n",
       "      <td>1</td>\n",
       "      <td>0</td>\n",
       "      <td>1</td>\n",
       "      <td>0</td>\n",
       "      <td>1</td>\n",
       "    </tr>\n",
       "    <tr>\n",
       "      <td>69998</td>\n",
       "      <td>99998</td>\n",
       "      <td>61</td>\n",
       "      <td>1</td>\n",
       "      <td>163</td>\n",
       "      <td>72.0</td>\n",
       "      <td>135</td>\n",
       "      <td>80</td>\n",
       "      <td>1</td>\n",
       "      <td>2</td>\n",
       "      <td>0</td>\n",
       "      <td>0</td>\n",
       "      <td>0</td>\n",
       "      <td>1</td>\n",
       "    </tr>\n",
       "    <tr>\n",
       "      <td>69999</td>\n",
       "      <td>99999</td>\n",
       "      <td>56</td>\n",
       "      <td>1</td>\n",
       "      <td>170</td>\n",
       "      <td>72.0</td>\n",
       "      <td>120</td>\n",
       "      <td>80</td>\n",
       "      <td>2</td>\n",
       "      <td>1</td>\n",
       "      <td>0</td>\n",
       "      <td>0</td>\n",
       "      <td>1</td>\n",
       "      <td>0</td>\n",
       "    </tr>\n",
       "  </tbody>\n",
       "</table>\n",
       "<p>70000 rows × 13 columns</p>\n",
       "</div>"
      ],
      "text/plain": [
       "          id  age  gender  height  weight  ap_hi  ap_lo  cholesterol  gluc  \\\n",
       "0          0   50       2     168    62.0    110     80            1     1   \n",
       "1          1   55       1     156    85.0    140     90            3     1   \n",
       "2          2   52       1     165    64.0    130     70            3     1   \n",
       "3          3   48       2     169    82.0    150    100            1     1   \n",
       "4          4   48       1     156    56.0    100     60            1     1   \n",
       "...      ...  ...     ...     ...     ...    ...    ...          ...   ...   \n",
       "69995  99993   53       2     168    76.0    120     80            1     1   \n",
       "69996  99995   62       1     158   126.0    140     90            2     2   \n",
       "69997  99996   52       2     183   105.0    180     90            3     1   \n",
       "69998  99998   61       1     163    72.0    135     80            1     2   \n",
       "69999  99999   56       1     170    72.0    120     80            2     1   \n",
       "\n",
       "       smoke  alco  active  cardio  \n",
       "0          0     0       1       0  \n",
       "1          0     0       1       1  \n",
       "2          0     0       0       1  \n",
       "3          0     0       1       1  \n",
       "4          0     0       0       0  \n",
       "...      ...   ...     ...     ...  \n",
       "69995      1     0       1       0  \n",
       "69996      0     0       1       1  \n",
       "69997      0     1       0       1  \n",
       "69998      0     0       0       1  \n",
       "69999      0     0       1       0  \n",
       "\n",
       "[70000 rows x 13 columns]"
      ]
     },
     "execution_count": 9,
     "metadata": {},
     "output_type": "execute_result"
    }
   ],
   "source": [
    "df.drop_duplicates()"
   ]
  },
  {
   "cell_type": "markdown",
   "metadata": {},
   "source": [
    "- We have no duplicates. Hence the shape did not chnage."
   ]
  },
  {
   "cell_type": "markdown",
   "metadata": {},
   "source": [
    "## Plot the correlation matrix"
   ]
  },
  {
   "cell_type": "code",
   "execution_count": 10,
   "metadata": {},
   "outputs": [
    {
     "data": {
      "text/plain": [
       "<matplotlib.colorbar.Colorbar at 0x22d2b6851c8>"
      ]
     },
     "execution_count": 10,
     "metadata": {},
     "output_type": "execute_result"
    },
    {
     "data": {
      "image/png": "[encoded data removed]",
      "text/plain": [
       "<Figure size 576x576 with 2 Axes>"
      ]
     },
     "metadata": {
      "needs_background": "light"
     },
     "output_type": "display_data"
    }
   ],
   "source": [
    "rcParams['figure.figsize'] = 20 , 8\n",
    "plt.matshow(df.corr())\n",
    "plt.yticks(np.arange(df.shape[1]), df.columns)\n",
    "plt.xticks(np.arange(df.shape[1]), df.columns)\n",
    "plt.colorbar()"
   ]
  },
  {
   "cell_type": "markdown",
   "metadata": {},
   "source": [
    "- We see that there is no such single feature that has a very high correlation with the target variable."
   ]
  },
  {
   "cell_type": "markdown",
   "metadata": {},
   "source": [
    "## Histogram"
   ]
  },
  {
   "cell_type": "code",
   "execution_count": 11,
   "metadata": {},
   "outputs": [
    {
     "data": {
      "text/plain": [
       "Text(0.5, 0, 'age')"
      ]
     },
     "execution_count": 11,
     "metadata": {},
     "output_type": "execute_result"
    },
    {
     "data": {
      "image/png": "[encoded data removed]",
      "text/plain": [
       "<Figure size 360x288 with 1 Axes>"
      ]
     },
     "metadata": {
      "needs_background": "light"
     },
     "output_type": "display_data"
    }
   ],
   "source": [
    "rcParams['figure.figsize'] = 5 , 4\n",
    "df['age'].plot.hist()\n",
    "plt.xlabel('age')"
   ]
  },
  {
   "cell_type": "code",
   "execution_count": 12,
   "metadata": {},
   "outputs": [
    {
     "data": {
      "text/plain": [
       "Text(0.5, 0, 'gender')"
      ]
     },
     "execution_count": 12,
     "metadata": {},
     "output_type": "execute_result"
    },
    {
     "data": {
      "image/png": "[encoded data removed]",
      "text/plain": [
       "<Figure size 360x288 with 1 Axes>"
      ]
     },
     "metadata": {
      "needs_background": "light"
     },
     "output_type": "display_data"
    }
   ],
   "source": [
    "rcParams['figure.figsize'] = 5 , 4\n",
    "df['gender'].plot.hist()\n",
    "plt.xlabel('gender')"
   ]
  },
  {
   "cell_type": "code",
   "execution_count": 13,
   "metadata": {},
   "outputs": [
    {
     "data": {
      "text/plain": [
       "Text(0.5, 0, 'ap_hi')"
      ]
     },
     "execution_count": 13,
     "metadata": {},
     "output_type": "execute_result"
    },
    {
     "data": {
      "image/png": "[encoded data removed]",
      "text/plain": [
       "<Figure size 360x288 with 1 Axes>"
      ]
     },
     "metadata": {
      "needs_background": "light"
     },
     "output_type": "display_data"
    }
   ],
   "source": [
    "rcParams['figure.figsize'] = 5 , 4\n",
    "df['ap_hi'].plot.hist()\n",
    "plt.xlabel('ap_hi')"
   ]
  },
  {
   "cell_type": "code",
   "execution_count": 14,
   "metadata": {},
   "outputs": [
    {
     "data": {
      "text/plain": [
       "Text(0.5, 0, 'ap_lo')"
      ]
     },
     "execution_count": 14,
     "metadata": {},
     "output_type": "execute_result"
    },
    {
     "data": {
      "image/png": "[encoded data removed]",
      "text/plain": [
       "<Figure size 360x288 with 1 Axes>"
      ]
     },
     "metadata": {
      "needs_background": "light"
     },
     "output_type": "display_data"
    }
   ],
   "source": [
    "rcParams['figure.figsize'] = 5 , 4\n",
    "df['ap_lo'].plot.hist()\n",
    "plt.xlabel('ap_lo')"
   ]
  },
  {
   "cell_type": "code",
   "execution_count": 15,
   "metadata": {},
   "outputs": [
    {
     "data": {
      "text/plain": [
       "Text(0.5, 0, 'gluc')"
      ]
     },
     "execution_count": 15,
     "metadata": {},
     "output_type": "execute_result"
    },
    {
     "data": {
      "image/png": "[encoded data removed]",
      "text/plain": [
       "<Figure size 360x288 with 1 Axes>"
      ]
     },
     "metadata": {
      "needs_background": "light"
     },
     "output_type": "display_data"
    }
   ],
   "source": [
    "rcParams['figure.figsize'] = 5 , 4\n",
    "df['gluc'].plot.hist()\n",
    "plt.xlabel('gluc')"
   ]
  },
  {
   "cell_type": "code",
   "execution_count": 16,
   "metadata": {},
   "outputs": [
    {
     "data": {
      "text/plain": [
       "Text(0.5, 0, 'cholesterol')"
      ]
     },
     "execution_count": 16,
     "metadata": {},
     "output_type": "execute_result"
    },
    {
     "data": {
      "image/png": "[encoded data removed]",
      "text/plain": [
       "<Figure size 360x288 with 1 Axes>"
      ]
     },
     "metadata": {
      "needs_background": "light"
     },
     "output_type": "display_data"
    }
   ],
   "source": [
    "rcParams['figure.figsize'] = 5 , 4\n",
    "df['cholesterol'].plot.hist()\n",
    "plt.xlabel('cholesterol')"
   ]
  },
  {
   "cell_type": "code",
   "execution_count": 17,
   "metadata": {},
   "outputs": [
    {
     "data": {
      "text/plain": [
       "Text(0.5, 0, 'height')"
      ]
     },
     "execution_count": 17,
     "metadata": {},
     "output_type": "execute_result"
    },
    {
     "data": {
      "image/png": "[encoded data removed]",
      "text/plain": [
       "<Figure size 360x288 with 1 Axes>"
      ]
     },
     "metadata": {
      "needs_background": "light"
     },
     "output_type": "display_data"
    }
   ],
   "source": [
    "rcParams['figure.figsize'] = 5 , 4\n",
    "df['height'].plot.hist()\n",
    "plt.xlabel('height')"
   ]
  },
  {
   "cell_type": "code",
   "execution_count": 18,
   "metadata": {},
   "outputs": [
    {
     "data": {
      "text/plain": [
       "Text(0.5, 0, 'weight')"
      ]
     },
     "execution_count": 18,
     "metadata": {},
     "output_type": "execute_result"
    },
    {
     "data": {
      "image/png": "[encoded data removed]",
      "text/plain": [
       "<Figure size 360x288 with 1 Axes>"
      ]
     },
     "metadata": {
      "needs_background": "light"
     },
     "output_type": "display_data"
    }
   ],
   "source": [
    "rcParams['figure.figsize'] = 5 , 4\n",
    "df['weight'].plot.hist()\n",
    "plt.xlabel('weight')"
   ]
  },
  {
   "cell_type": "code",
   "execution_count": 19,
   "metadata": {},
   "outputs": [
    {
     "data": {
      "text/plain": [
       "Text(0.5, 0, 'smoke')"
      ]
     },
     "execution_count": 19,
     "metadata": {},
     "output_type": "execute_result"
    },
    {
     "data": {
      "image/png": "[encoded data removed]",
      "text/plain": [
       "<Figure size 360x288 with 1 Axes>"
      ]
     },
     "metadata": {
      "needs_background": "light"
     },
     "output_type": "display_data"
    }
   ],
   "source": [
    "rcParams['figure.figsize'] = 5 , 4\n",
    "df['smoke'].plot.hist()\n",
    "plt.xlabel('smoke')"
   ]
  },
  {
   "cell_type": "code",
   "execution_count": 20,
   "metadata": {},
   "outputs": [
    {
     "data": {
      "text/plain": [
       "Text(0.5, 0, 'alco')"
      ]
     },
     "execution_count": 20,
     "metadata": {},
     "output_type": "execute_result"
    },
    {
     "data": {
      "image/png": "[encoded data removed]",
      "text/plain": [
       "<Figure size 360x288 with 1 Axes>"
      ]
     },
     "metadata": {
      "needs_background": "light"
     },
     "output_type": "display_data"
    }
   ],
   "source": [
    "rcParams['figure.figsize'] = 5 , 4\n",
    "df['alco'].plot.hist()\n",
    "plt.xlabel('alco')"
   ]
  },
  {
   "cell_type": "code",
   "execution_count": 21,
   "metadata": {},
   "outputs": [
    {
     "data": {
      "text/plain": [
       "Text(0.5, 0, 'active')"
      ]
     },
     "execution_count": 21,
     "metadata": {},
     "output_type": "execute_result"
    },
    {
     "data": {
      "image/png": "[encoded data removed]",
      "text/plain": [
       "<Figure size 360x288 with 1 Axes>"
      ]
     },
     "metadata": {
      "needs_background": "light"
     },
     "output_type": "display_data"
    }
   ],
   "source": [
    "rcParams['figure.figsize'] = 5 , 4\n",
    "df['active'].plot.hist()\n",
    "plt.xlabel('active')"
   ]
  },
  {
   "cell_type": "code",
   "execution_count": 22,
   "metadata": {},
   "outputs": [
    {
     "data": {
      "text/plain": [
       "array([[<matplotlib.axes._subplots.AxesSubplot object at 0x0000022D2D3DC4C8>,\n",
       "        <matplotlib.axes._subplots.AxesSubplot object at 0x0000022D2D408188>,\n",
       "        <matplotlib.axes._subplots.AxesSubplot object at 0x0000022D2D43F7C8>,\n",
       "        <matplotlib.axes._subplots.AxesSubplot object at 0x0000022D2D478208>],\n",
       "       [<matplotlib.axes._subplots.AxesSubplot object at 0x0000022D2D4B1288>,\n",
       "        <matplotlib.axes._subplots.AxesSubplot object at 0x0000022D2D4E9388>,\n",
       "        <matplotlib.axes._subplots.AxesSubplot object at 0x0000022D2D522448>,\n",
       "        <matplotlib.axes._subplots.AxesSubplot object at 0x0000022D2D55B548>],\n",
       "       [<matplotlib.axes._subplots.AxesSubplot object at 0x0000022D2D566148>,\n",
       "        <matplotlib.axes._subplots.AxesSubplot object at 0x0000022D2D59F308>,\n",
       "        <matplotlib.axes._subplots.AxesSubplot object at 0x0000022D2D6078C8>,\n",
       "        <matplotlib.axes._subplots.AxesSubplot object at 0x0000022D2D63E948>],\n",
       "       [<matplotlib.axes._subplots.AxesSubplot object at 0x0000022D2D676A88>,\n",
       "        <matplotlib.axes._subplots.AxesSubplot object at 0x0000022D2D6AFBC8>,\n",
       "        <matplotlib.axes._subplots.AxesSubplot object at 0x0000022D2D6E7D88>,\n",
       "        <matplotlib.axes._subplots.AxesSubplot object at 0x0000022D2D721F48>]],\n",
       "      dtype=object)"
      ]
     },
     "execution_count": 22,
     "metadata": {},
     "output_type": "execute_result"
    },
    {
     "data": {
      "image/png": "[encoded data removed]",
      "text/plain": [
       "<Figure size 1080x720 with 16 Axes>"
      ]
     },
     "metadata": {
      "needs_background": "light"
     },
     "output_type": "display_data"
    }
   ],
   "source": [
    "rcParams['figure.figsize'] = 15,10\n",
    "df.hist()"
   ]
  },
  {
   "cell_type": "markdown",
   "metadata": {},
   "source": [
    "- Some of the variables show presence of outliers \n",
    "- Also we see many categorical variables but all are declared as continuous by assigning (int,float) data types."
   ]
  },
  {
   "cell_type": "code",
   "execution_count": 23,
   "metadata": {},
   "outputs": [
    {
     "data": {
      "text/plain": [
       "<matplotlib.axes._subplots.AxesSubplot at 0x22d2dced948>"
      ]
     },
     "execution_count": 23,
     "metadata": {},
     "output_type": "execute_result"
    },
    {
     "data": {
      "image/png": "[encoded data removed]",
      "text/plain": [
       "<Figure size 360x288 with 1 Axes>"
      ]
     },
     "metadata": {
      "needs_background": "light"
     },
     "output_type": "display_data"
    }
   ],
   "source": [
    "rcParams['figure.figsize'] = 5 , 4\n",
    "df['cardio'].value_counts().plot(kind = 'bar') "
   ]
  },
  {
   "cell_type": "markdown",
   "metadata": {},
   "source": [
    "- Target class is balanced."
   ]
  },
  {
   "cell_type": "markdown",
   "metadata": {},
   "source": [
    "## Change the data types"
   ]
  },
  {
   "cell_type": "code",
   "execution_count": 24,
   "metadata": {},
   "outputs": [],
   "source": [
    "df = df.astype({'gender': 'object', 'active': 'object', 'cholesterol': 'object', 'gluc': 'object' , 'smoke': 'object', 'alco': 'object'})"
   ]
  },
  {
   "cell_type": "code",
   "execution_count": 25,
   "metadata": {},
   "outputs": [
    {
     "data": {
      "text/plain": [
       "id               int64\n",
       "age              int64\n",
       "gender          object\n",
       "height           int64\n",
       "weight         float64\n",
       "ap_hi            int64\n",
       "ap_lo            int64\n",
       "cholesterol     object\n",
       "gluc            object\n",
       "smoke           object\n",
       "alco            object\n",
       "active          object\n",
       "cardio           int64\n",
       "dtype: object"
      ]
     },
     "execution_count": 25,
     "metadata": {},
     "output_type": "execute_result"
    }
   ],
   "source": [
    "df.dtypes"
   ]
  },
  {
   "cell_type": "code",
   "execution_count": 26,
   "metadata": {},
   "outputs": [
    {
     "data": {
      "text/html": [
       "<div>\n",
       "<style scoped>\n",
       "    .dataframe tbody tr th:only-of-type {\n",
       "        vertical-align: middle;\n",
       "    }\n",
       "\n",
       "    .dataframe tbody tr th {\n",
       "        vertical-align: top;\n",
       "    }\n",
       "\n",
       "    .dataframe thead th {\n",
       "        text-align: right;\n",
       "    }\n",
       "</style>\n",
       "<table border=\"1\" class=\"dataframe\">\n",
       "  <thead>\n",
       "    <tr style=\"text-align: right;\">\n",
       "      <th></th>\n",
       "      <th>id</th>\n",
       "      <th>age</th>\n",
       "      <th>gender</th>\n",
       "      <th>height</th>\n",
       "      <th>weight</th>\n",
       "      <th>ap_hi</th>\n",
       "      <th>ap_lo</th>\n",
       "      <th>cholesterol</th>\n",
       "      <th>gluc</th>\n",
       "      <th>smoke</th>\n",
       "      <th>alco</th>\n",
       "      <th>active</th>\n",
       "      <th>cardio</th>\n",
       "    </tr>\n",
       "  </thead>\n",
       "  <tbody>\n",
       "    <tr>\n",
       "      <td>count</td>\n",
       "      <td>70000.000000</td>\n",
       "      <td>70000.000000</td>\n",
       "      <td>70000.0</td>\n",
       "      <td>70000.000000</td>\n",
       "      <td>70000.000000</td>\n",
       "      <td>70000.000000</td>\n",
       "      <td>70000.000000</td>\n",
       "      <td>70000.0</td>\n",
       "      <td>70000.0</td>\n",
       "      <td>70000.0</td>\n",
       "      <td>70000.0</td>\n",
       "      <td>70000.0</td>\n",
       "      <td>70000.000000</td>\n",
       "    </tr>\n",
       "    <tr>\n",
       "      <td>unique</td>\n",
       "      <td>NaN</td>\n",
       "      <td>NaN</td>\n",
       "      <td>2.0</td>\n",
       "      <td>NaN</td>\n",
       "      <td>NaN</td>\n",
       "      <td>NaN</td>\n",
       "      <td>NaN</td>\n",
       "      <td>3.0</td>\n",
       "      <td>3.0</td>\n",
       "      <td>2.0</td>\n",
       "      <td>2.0</td>\n",
       "      <td>2.0</td>\n",
       "      <td>NaN</td>\n",
       "    </tr>\n",
       "    <tr>\n",
       "      <td>top</td>\n",
       "      <td>NaN</td>\n",
       "      <td>NaN</td>\n",
       "      <td>1.0</td>\n",
       "      <td>NaN</td>\n",
       "      <td>NaN</td>\n",
       "      <td>NaN</td>\n",
       "      <td>NaN</td>\n",
       "      <td>1.0</td>\n",
       "      <td>1.0</td>\n",
       "      <td>0.0</td>\n",
       "      <td>0.0</td>\n",
       "      <td>1.0</td>\n",
       "      <td>NaN</td>\n",
       "    </tr>\n",
       "    <tr>\n",
       "      <td>freq</td>\n",
       "      <td>NaN</td>\n",
       "      <td>NaN</td>\n",
       "      <td>45530.0</td>\n",
       "      <td>NaN</td>\n",
       "      <td>NaN</td>\n",
       "      <td>NaN</td>\n",
       "      <td>NaN</td>\n",
       "      <td>52385.0</td>\n",
       "      <td>59479.0</td>\n",
       "      <td>63831.0</td>\n",
       "      <td>66236.0</td>\n",
       "      <td>56261.0</td>\n",
       "      <td>NaN</td>\n",
       "    </tr>\n",
       "    <tr>\n",
       "      <td>mean</td>\n",
       "      <td>49972.419900</td>\n",
       "      <td>53.338686</td>\n",
       "      <td>NaN</td>\n",
       "      <td>164.359229</td>\n",
       "      <td>74.205690</td>\n",
       "      <td>128.817286</td>\n",
       "      <td>96.630414</td>\n",
       "      <td>NaN</td>\n",
       "      <td>NaN</td>\n",
       "      <td>NaN</td>\n",
       "      <td>NaN</td>\n",
       "      <td>NaN</td>\n",
       "      <td>0.499700</td>\n",
       "    </tr>\n",
       "    <tr>\n",
       "      <td>std</td>\n",
       "      <td>28851.302323</td>\n",
       "      <td>6.765294</td>\n",
       "      <td>NaN</td>\n",
       "      <td>8.210126</td>\n",
       "      <td>14.395757</td>\n",
       "      <td>154.011419</td>\n",
       "      <td>188.472530</td>\n",
       "      <td>NaN</td>\n",
       "      <td>NaN</td>\n",
       "      <td>NaN</td>\n",
       "      <td>NaN</td>\n",
       "      <td>NaN</td>\n",
       "      <td>0.500003</td>\n",
       "    </tr>\n",
       "    <tr>\n",
       "      <td>min</td>\n",
       "      <td>0.000000</td>\n",
       "      <td>30.000000</td>\n",
       "      <td>NaN</td>\n",
       "      <td>55.000000</td>\n",
       "      <td>10.000000</td>\n",
       "      <td>-150.000000</td>\n",
       "      <td>-70.000000</td>\n",
       "      <td>NaN</td>\n",
       "      <td>NaN</td>\n",
       "      <td>NaN</td>\n",
       "      <td>NaN</td>\n",
       "      <td>NaN</td>\n",
       "      <td>0.000000</td>\n",
       "    </tr>\n",
       "    <tr>\n",
       "      <td>25%</td>\n",
       "      <td>25006.750000</td>\n",
       "      <td>48.000000</td>\n",
       "      <td>NaN</td>\n",
       "      <td>159.000000</td>\n",
       "      <td>65.000000</td>\n",
       "      <td>120.000000</td>\n",
       "      <td>80.000000</td>\n",
       "      <td>NaN</td>\n",
       "      <td>NaN</td>\n",
       "      <td>NaN</td>\n",
       "      <td>NaN</td>\n",
       "      <td>NaN</td>\n",
       "      <td>0.000000</td>\n",
       "    </tr>\n",
       "    <tr>\n",
       "      <td>50%</td>\n",
       "      <td>50001.500000</td>\n",
       "      <td>54.000000</td>\n",
       "      <td>NaN</td>\n",
       "      <td>165.000000</td>\n",
       "      <td>72.000000</td>\n",
       "      <td>120.000000</td>\n",
       "      <td>80.000000</td>\n",
       "      <td>NaN</td>\n",
       "      <td>NaN</td>\n",
       "      <td>NaN</td>\n",
       "      <td>NaN</td>\n",
       "      <td>NaN</td>\n",
       "      <td>0.000000</td>\n",
       "    </tr>\n",
       "    <tr>\n",
       "      <td>75%</td>\n",
       "      <td>74889.250000</td>\n",
       "      <td>58.000000</td>\n",
       "      <td>NaN</td>\n",
       "      <td>170.000000</td>\n",
       "      <td>82.000000</td>\n",
       "      <td>140.000000</td>\n",
       "      <td>90.000000</td>\n",
       "      <td>NaN</td>\n",
       "      <td>NaN</td>\n",
       "      <td>NaN</td>\n",
       "      <td>NaN</td>\n",
       "      <td>NaN</td>\n",
       "      <td>1.000000</td>\n",
       "    </tr>\n",
       "    <tr>\n",
       "      <td>max</td>\n",
       "      <td>99999.000000</td>\n",
       "      <td>65.000000</td>\n",
       "      <td>NaN</td>\n",
       "      <td>250.000000</td>\n",
       "      <td>200.000000</td>\n",
       "      <td>16020.000000</td>\n",
       "      <td>11000.000000</td>\n",
       "      <td>NaN</td>\n",
       "      <td>NaN</td>\n",
       "      <td>NaN</td>\n",
       "      <td>NaN</td>\n",
       "      <td>NaN</td>\n",
       "      <td>1.000000</td>\n",
       "    </tr>\n",
       "  </tbody>\n",
       "</table>\n",
       "</div>"
      ],
      "text/plain": [
       "                  id           age   gender        height        weight  \\\n",
       "count   70000.000000  70000.000000  70000.0  70000.000000  70000.000000   \n",
       "unique           NaN           NaN      2.0           NaN           NaN   \n",
       "top              NaN           NaN      1.0           NaN           NaN   \n",
       "freq             NaN           NaN  45530.0           NaN           NaN   \n",
       "mean    49972.419900     53.338686      NaN    164.359229     74.205690   \n",
       "std     28851.302323      6.765294      NaN      8.210126     14.395757   \n",
       "min         0.000000     30.000000      NaN     55.000000     10.000000   \n",
       "25%     25006.750000     48.000000      NaN    159.000000     65.000000   \n",
       "50%     50001.500000     54.000000      NaN    165.000000     72.000000   \n",
       "75%     74889.250000     58.000000      NaN    170.000000     82.000000   \n",
       "max     99999.000000     65.000000      NaN    250.000000    200.000000   \n",
       "\n",
       "               ap_hi         ap_lo  cholesterol     gluc    smoke     alco  \\\n",
       "count   70000.000000  70000.000000      70000.0  70000.0  70000.0  70000.0   \n",
       "unique           NaN           NaN          3.0      3.0      2.0      2.0   \n",
       "top              NaN           NaN          1.0      1.0      0.0      0.0   \n",
       "freq             NaN           NaN      52385.0  59479.0  63831.0  66236.0   \n",
       "mean      128.817286     96.630414          NaN      NaN      NaN      NaN   \n",
       "std       154.011419    188.472530          NaN      NaN      NaN      NaN   \n",
       "min      -150.000000    -70.000000          NaN      NaN      NaN      NaN   \n",
       "25%       120.000000     80.000000          NaN      NaN      NaN      NaN   \n",
       "50%       120.000000     80.000000          NaN      NaN      NaN      NaN   \n",
       "75%       140.000000     90.000000          NaN      NaN      NaN      NaN   \n",
       "max     16020.000000  11000.000000          NaN      NaN      NaN      NaN   \n",
       "\n",
       "         active        cardio  \n",
       "count   70000.0  70000.000000  \n",
       "unique      2.0           NaN  \n",
       "top         1.0           NaN  \n",
       "freq    56261.0           NaN  \n",
       "mean        NaN      0.499700  \n",
       "std         NaN      0.500003  \n",
       "min         NaN      0.000000  \n",
       "25%         NaN      0.000000  \n",
       "50%         NaN      0.000000  \n",
       "75%         NaN      1.000000  \n",
       "max         NaN      1.000000  "
      ]
     },
     "execution_count": 26,
     "metadata": {},
     "output_type": "execute_result"
    }
   ],
   "source": [
    "df.describe(include='all')"
   ]
  },
  {
   "cell_type": "markdown",
   "metadata": {},
   "source": [
    "## Handling categorical variables"
   ]
  },
  {
   "cell_type": "markdown",
   "metadata": {},
   "source": [
    "### One Hot Encoding Dummy method"
   ]
  },
  {
   "cell_type": "code",
   "execution_count": 27,
   "metadata": {},
   "outputs": [],
   "source": [
    "df = pd.get_dummies(df, columns = ['gender', 'alco', 'gluc', 'smoke', 'cholesterol', 'active'])"
   ]
  },
  {
   "cell_type": "code",
   "execution_count": 28,
   "metadata": {},
   "outputs": [
    {
     "data": {
      "text/html": [
       "<div>\n",
       "<style scoped>\n",
       "    .dataframe tbody tr th:only-of-type {\n",
       "        vertical-align: middle;\n",
       "    }\n",
       "\n",
       "    .dataframe tbody tr th {\n",
       "        vertical-align: top;\n",
       "    }\n",
       "\n",
       "    .dataframe thead th {\n",
       "        text-align: right;\n",
       "    }\n",
       "</style>\n",
       "<table border=\"1\" class=\"dataframe\">\n",
       "  <thead>\n",
       "    <tr style=\"text-align: right;\">\n",
       "      <th></th>\n",
       "      <th>id</th>\n",
       "      <th>age</th>\n",
       "      <th>height</th>\n",
       "      <th>weight</th>\n",
       "      <th>ap_hi</th>\n",
       "      <th>ap_lo</th>\n",
       "      <th>cardio</th>\n",
       "      <th>gender_1</th>\n",
       "      <th>gender_2</th>\n",
       "      <th>alco_0</th>\n",
       "      <th>...</th>\n",
       "      <th>gluc_1</th>\n",
       "      <th>gluc_2</th>\n",
       "      <th>gluc_3</th>\n",
       "      <th>smoke_0</th>\n",
       "      <th>smoke_1</th>\n",
       "      <th>cholesterol_1</th>\n",
       "      <th>cholesterol_2</th>\n",
       "      <th>cholesterol_3</th>\n",
       "      <th>active_0</th>\n",
       "      <th>active_1</th>\n",
       "    </tr>\n",
       "  </thead>\n",
       "  <tbody>\n",
       "    <tr>\n",
       "      <td>0</td>\n",
       "      <td>0</td>\n",
       "      <td>50</td>\n",
       "      <td>168</td>\n",
       "      <td>62.0</td>\n",
       "      <td>110</td>\n",
       "      <td>80</td>\n",
       "      <td>0</td>\n",
       "      <td>0</td>\n",
       "      <td>1</td>\n",
       "      <td>1</td>\n",
       "      <td>...</td>\n",
       "      <td>1</td>\n",
       "      <td>0</td>\n",
       "      <td>0</td>\n",
       "      <td>1</td>\n",
       "      <td>0</td>\n",
       "      <td>1</td>\n",
       "      <td>0</td>\n",
       "      <td>0</td>\n",
       "      <td>0</td>\n",
       "      <td>1</td>\n",
       "    </tr>\n",
       "    <tr>\n",
       "      <td>1</td>\n",
       "      <td>1</td>\n",
       "      <td>55</td>\n",
       "      <td>156</td>\n",
       "      <td>85.0</td>\n",
       "      <td>140</td>\n",
       "      <td>90</td>\n",
       "      <td>1</td>\n",
       "      <td>1</td>\n",
       "      <td>0</td>\n",
       "      <td>1</td>\n",
       "      <td>...</td>\n",
       "      <td>1</td>\n",
       "      <td>0</td>\n",
       "      <td>0</td>\n",
       "      <td>1</td>\n",
       "      <td>0</td>\n",
       "      <td>0</td>\n",
       "      <td>0</td>\n",
       "      <td>1</td>\n",
       "      <td>0</td>\n",
       "      <td>1</td>\n",
       "    </tr>\n",
       "    <tr>\n",
       "      <td>2</td>\n",
       "      <td>2</td>\n",
       "      <td>52</td>\n",
       "      <td>165</td>\n",
       "      <td>64.0</td>\n",
       "      <td>130</td>\n",
       "      <td>70</td>\n",
       "      <td>1</td>\n",
       "      <td>1</td>\n",
       "      <td>0</td>\n",
       "      <td>1</td>\n",
       "      <td>...</td>\n",
       "      <td>1</td>\n",
       "      <td>0</td>\n",
       "      <td>0</td>\n",
       "      <td>1</td>\n",
       "      <td>0</td>\n",
       "      <td>0</td>\n",
       "      <td>0</td>\n",
       "      <td>1</td>\n",
       "      <td>1</td>\n",
       "      <td>0</td>\n",
       "    </tr>\n",
       "    <tr>\n",
       "      <td>3</td>\n",
       "      <td>3</td>\n",
       "      <td>48</td>\n",
       "      <td>169</td>\n",
       "      <td>82.0</td>\n",
       "      <td>150</td>\n",
       "      <td>100</td>\n",
       "      <td>1</td>\n",
       "      <td>0</td>\n",
       "      <td>1</td>\n",
       "      <td>1</td>\n",
       "      <td>...</td>\n",
       "      <td>1</td>\n",
       "      <td>0</td>\n",
       "      <td>0</td>\n",
       "      <td>1</td>\n",
       "      <td>0</td>\n",
       "      <td>1</td>\n",
       "      <td>0</td>\n",
       "      <td>0</td>\n",
       "      <td>0</td>\n",
       "      <td>1</td>\n",
       "    </tr>\n",
       "    <tr>\n",
       "      <td>4</td>\n",
       "      <td>4</td>\n",
       "      <td>48</td>\n",
       "      <td>156</td>\n",
       "      <td>56.0</td>\n",
       "      <td>100</td>\n",
       "      <td>60</td>\n",
       "      <td>0</td>\n",
       "      <td>1</td>\n",
       "      <td>0</td>\n",
       "      <td>1</td>\n",
       "      <td>...</td>\n",
       "      <td>1</td>\n",
       "      <td>0</td>\n",
       "      <td>0</td>\n",
       "      <td>1</td>\n",
       "      <td>0</td>\n",
       "      <td>1</td>\n",
       "      <td>0</td>\n",
       "      <td>0</td>\n",
       "      <td>1</td>\n",
       "      <td>0</td>\n",
       "    </tr>\n",
       "  </tbody>\n",
       "</table>\n",
       "<p>5 rows × 21 columns</p>\n",
       "</div>"
      ],
      "text/plain": [
       "   id  age  height  weight  ap_hi  ap_lo  cardio  gender_1  gender_2  alco_0  \\\n",
       "0   0   50     168    62.0    110     80       0         0         1       1   \n",
       "1   1   55     156    85.0    140     90       1         1         0       1   \n",
       "2   2   52     165    64.0    130     70       1         1         0       1   \n",
       "3   3   48     169    82.0    150    100       1         0         1       1   \n",
       "4   4   48     156    56.0    100     60       0         1         0       1   \n",
       "\n",
       "   ...  gluc_1  gluc_2  gluc_3  smoke_0  smoke_1  cholesterol_1  \\\n",
       "0  ...       1       0       0        1        0              1   \n",
       "1  ...       1       0       0        1        0              0   \n",
       "2  ...       1       0       0        1        0              0   \n",
       "3  ...       1       0       0        1        0              1   \n",
       "4  ...       1       0       0        1        0              1   \n",
       "\n",
       "   cholesterol_2  cholesterol_3  active_0  active_1  \n",
       "0              0              0         0         1  \n",
       "1              0              1         0         1  \n",
       "2              0              1         1         0  \n",
       "3              0              0         0         1  \n",
       "4              0              0         1         0  \n",
       "\n",
       "[5 rows x 21 columns]"
      ]
     },
     "execution_count": 28,
     "metadata": {},
     "output_type": "execute_result"
    }
   ],
   "source": [
    "df.head()"
   ]
  },
  {
   "cell_type": "markdown",
   "metadata": {},
   "source": [
    "### Segregating variables - Dependent & Independent "
   ]
  },
  {
   "cell_type": "code",
   "execution_count": 8,
   "metadata": {},
   "outputs": [],
   "source": [
    "#seperating independent and dependent variables\n",
    "\n",
    "x = df.drop(['cardio'], axis=1)\n",
    "y = df['cardio']"
   ]
  },
  {
   "cell_type": "markdown",
   "metadata": {},
   "source": [
    "### Scaling the data"
   ]
  },
  {
   "cell_type": "code",
   "execution_count": 33,
   "metadata": {},
   "outputs": [],
   "source": [
    "from sklearn.preprocessing import StandardScaler\n",
    "ss = StandardScaler()\n",
    "x = ss.fit_transform(x)"
   ]
  },
  {
   "cell_type": "markdown",
   "metadata": {},
   "source": [
    "### Train and test split"
   ]
  },
  {
   "cell_type": "code",
   "execution_count": 9,
   "metadata": {},
   "outputs": [],
   "source": [
    "from sklearn.model_selection import train_test_split\n",
    "train_x,test_x,train_y,test_y = train_test_split(x,y, random_state = 96, stratify=y)"
   ]
  },
  {
   "cell_type": "markdown",
   "metadata": {},
   "source": [
    "## Apply Algorithms"
   ]
  },
  {
   "cell_type": "markdown",
   "metadata": {},
   "source": [
    "## 1) k-NN"
   ]
  },
  {
   "cell_type": "markdown",
   "metadata": {},
   "source": [
    "### Implementing k-NN with cross-validation"
   ]
  },
  {
   "cell_type": "code",
   "execution_count": 35,
   "metadata": {},
   "outputs": [],
   "source": [
    "#importing KNN classifier and metric F1score\n",
    "\n",
    "from sklearn.neighbors import KNeighborsClassifier as KNN"
   ]
  },
  {
   "cell_type": "markdown",
   "metadata": {},
   "source": [
    "### Checking consistency using cross-validation"
   ]
  },
  {
   "cell_type": "code",
   "execution_count": 36,
   "metadata": {},
   "outputs": [
    {
     "data": {
      "text/plain": [
       "array([0.55132356, 0.55132356, 0.5458008 , 0.5505618 , 0.54209524,\n",
       "       0.54857143, 0.55439131, 0.5587731 , 0.54105544, 0.53114879])"
      ]
     },
     "execution_count": 36,
     "metadata": {},
     "output_type": "execute_result"
    }
   ],
   "source": [
    "from sklearn.model_selection import cross_val_score\n",
    "score = cross_val_score( KNN(n_neighbors = 3), X = train_x, y = train_y, cv = 10)\n",
    "score"
   ]
  },
  {
   "cell_type": "code",
   "execution_count": 37,
   "metadata": {},
   "outputs": [
    {
     "data": {
      "text/plain": [
       "(54.750450207484214, 0.7452031048496276)"
      ]
     },
     "execution_count": 37,
     "metadata": {},
     "output_type": "execute_result"
    }
   ],
   "source": [
    "# Consistency using Mean and standard deviation in percentage\n",
    "score.mean()*100, score.std()*100"
   ]
  },
  {
   "cell_type": "markdown",
   "metadata": {},
   "source": [
    "### Automating the process of cross validation for different k-neighbours"
   ]
  },
  {
   "cell_type": "code",
   "execution_count": 38,
   "metadata": {},
   "outputs": [],
   "source": [
    "def Val_score(n_neighbors):\n",
    "    '''\n",
    "  takes range of n_neighbors as input\n",
    "  returns Mean and Standard Deviation for each value of n_neighbors\n",
    "  '''\n",
    "    avg = []\n",
    "    std = []\n",
    "  \n",
    "    for i in n_neighbors:\n",
    "    \n",
    "    # 10 fold cross validation for every value of n_neighbor\n",
    "      score = cross_val_score( KNN(n_neighbors = i) , X = train_x, y = train_y, cv = 10)\n",
    "    \n",
    "    # adding mean to avg list\n",
    "      avg.append(score.mean())\n",
    "    \n",
    "    # adding standard deviation to std list\n",
    "      std.append(score.std())\n",
    "    \n",
    "    return avg, std"
   ]
  },
  {
   "cell_type": "code",
   "execution_count": 39,
   "metadata": {},
   "outputs": [],
   "source": [
    "n_neighbors = range(1,50)\n",
    "mean, std = Val_score(n_neighbors)"
   ]
  },
  {
   "cell_type": "markdown",
   "metadata": {},
   "source": [
    "### Ploting Mean Validation Score for each K value"
   ]
  },
  {
   "cell_type": "code",
   "execution_count": 40,
   "metadata": {},
   "outputs": [
    {
     "data": {
      "text/plain": [
       "Text(0.5, 1.0, 'Mean Validation score')"
      ]
     },
     "execution_count": 40,
     "metadata": {},
     "output_type": "execute_result"
    },
    {
     "data": {
      "image/png": "[encoded data removed]",
      "text/plain": [
       "<Figure size 432x360 with 1 Axes>"
      ]
     },
     "metadata": {
      "needs_background": "light"
     },
     "output_type": "display_data"
    }
   ],
   "source": [
    "rcParams['figure.figsize'] = 6, 5\n",
    "plt.plot(n_neighbors[10:20], mean[10:20], color = 'green', label = 'mean' )\n",
    "plt.xlabel('n_neighbors')\n",
    "plt.ylabel('Mean Score')\n",
    "plt.title('Mean Validation score')"
   ]
  },
  {
   "cell_type": "markdown",
   "metadata": {},
   "source": [
    "### Ploting Standard Deviation Validation Score for each K value"
   ]
  },
  {
   "cell_type": "code",
   "execution_count": 41,
   "metadata": {},
   "outputs": [
    {
     "data": {
      "text/plain": [
       "Text(0.5, 1.0, 'Standard Deviation of Validation score')"
      ]
     },
     "execution_count": 41,
     "metadata": {},
     "output_type": "execute_result"
    },
    {
     "data": {
      "image/png": "[encoded data removed]",
      "text/plain": [
       "<Figure size 432x360 with 1 Axes>"
      ]
     },
     "metadata": {
      "needs_background": "light"
     },
     "output_type": "display_data"
    }
   ],
   "source": [
    "rcParams['figure.figsize'] = 6, 5\n",
    "plt.plot(n_neighbors[10:20], std[10:20], color = 'red', label = 'Standard deviation' )\n",
    "plt.xlabel('n_neighbors')\n",
    "plt.ylabel('magnitude')\n",
    "plt.title('Standard Deviation of Validation score')"
   ]
  },
  {
   "cell_type": "markdown",
   "metadata": {},
   "source": [
    "### Trying the optimal model over test set"
   ]
  },
  {
   "cell_type": "code",
   "execution_count": 42,
   "metadata": {},
   "outputs": [
    {
     "data": {
      "text/plain": [
       "(0.6328, 0.5770285714285714)"
      ]
     },
     "execution_count": 42,
     "metadata": {},
     "output_type": "execute_result"
    }
   ],
   "source": [
    "clf = KNN(n_neighbors = 20)\n",
    "clf.fit(train_x, train_y)\n",
    "\n",
    "score1 = clf.score(train_x, train_y)\n",
    "\n",
    "score = clf.score(test_x, test_y)\n",
    "score1, score"
   ]
  },
  {
   "cell_type": "code",
   "execution_count": 43,
   "metadata": {},
   "outputs": [
    {
     "data": {
      "text/plain": [
       "array([0, 1, 1, 0, 0, 1, 1, 1, 0, 0], dtype=int64)"
      ]
     },
     "execution_count": 43,
     "metadata": {},
     "output_type": "execute_result"
    }
   ],
   "source": [
    "pred1 = clf.predict(test_x)\n",
    "pred1[:10]"
   ]
  },
  {
   "cell_type": "markdown",
   "metadata": {},
   "source": [
    "## 2) Logistic Regression"
   ]
  },
  {
   "cell_type": "markdown",
   "metadata": {},
   "source": [
    "### Normalising the data "
   ]
  },
  {
   "cell_type": "code",
   "execution_count": 44,
   "metadata": {},
   "outputs": [],
   "source": [
    "# Importing the train test split function\n",
    "from sklearn.model_selection import train_test_split\n",
    "train_x,test_x,train_y,test_y = train_test_split(x,y, random_state = 56)"
   ]
  },
  {
   "cell_type": "code",
   "execution_count": 45,
   "metadata": {},
   "outputs": [],
   "source": [
    "from sklearn.preprocessing import MinMaxScaler\n",
    "scaler = MinMaxScaler()"
   ]
  },
  {
   "cell_type": "code",
   "execution_count": 46,
   "metadata": {},
   "outputs": [
    {
     "data": {
      "text/plain": [
       "Index(['id', 'age', 'height', 'weight', 'ap_hi', 'ap_lo', 'gender_1',\n",
       "       'gender_2', 'alco_0', 'alco_1', 'gluc_1', 'gluc_2', 'gluc_3', 'smoke_0',\n",
       "       'smoke_1', 'cholesterol_1', 'cholesterol_2', 'cholesterol_3',\n",
       "       'active_0', 'active_1'],\n",
       "      dtype='object')"
      ]
     },
     "execution_count": 46,
     "metadata": {},
     "output_type": "execute_result"
    }
   ],
   "source": [
    "cols = train_x.columns\n",
    "cols"
   ]
  },
  {
   "cell_type": "code",
   "execution_count": 47,
   "metadata": {},
   "outputs": [
    {
     "data": {
      "text/html": [
       "<div>\n",
       "<style scoped>\n",
       "    .dataframe tbody tr th:only-of-type {\n",
       "        vertical-align: middle;\n",
       "    }\n",
       "\n",
       "    .dataframe tbody tr th {\n",
       "        vertical-align: top;\n",
       "    }\n",
       "\n",
       "    .dataframe thead th {\n",
       "        text-align: right;\n",
       "    }\n",
       "</style>\n",
       "<table border=\"1\" class=\"dataframe\">\n",
       "  <thead>\n",
       "    <tr style=\"text-align: right;\">\n",
       "      <th></th>\n",
       "      <th>id</th>\n",
       "      <th>age</th>\n",
       "      <th>height</th>\n",
       "      <th>weight</th>\n",
       "      <th>ap_hi</th>\n",
       "      <th>ap_lo</th>\n",
       "      <th>gender_1</th>\n",
       "      <th>gender_2</th>\n",
       "      <th>alco_0</th>\n",
       "      <th>alco_1</th>\n",
       "      <th>gluc_1</th>\n",
       "      <th>gluc_2</th>\n",
       "      <th>gluc_3</th>\n",
       "      <th>smoke_0</th>\n",
       "      <th>smoke_1</th>\n",
       "      <th>cholesterol_1</th>\n",
       "      <th>cholesterol_2</th>\n",
       "      <th>cholesterol_3</th>\n",
       "      <th>active_0</th>\n",
       "      <th>active_1</th>\n",
       "    </tr>\n",
       "  </thead>\n",
       "  <tbody>\n",
       "    <tr>\n",
       "      <td>0</td>\n",
       "      <td>0.741850</td>\n",
       "      <td>0.299032</td>\n",
       "      <td>0.769737</td>\n",
       "      <td>0.326316</td>\n",
       "      <td>0.015461</td>\n",
       "      <td>0.011743</td>\n",
       "      <td>1.0</td>\n",
       "      <td>0.0</td>\n",
       "      <td>1.0</td>\n",
       "      <td>0.0</td>\n",
       "      <td>1.0</td>\n",
       "      <td>0.0</td>\n",
       "      <td>0.0</td>\n",
       "      <td>1.0</td>\n",
       "      <td>0.0</td>\n",
       "      <td>1.0</td>\n",
       "      <td>0.0</td>\n",
       "      <td>0.0</td>\n",
       "      <td>0.0</td>\n",
       "      <td>1.0</td>\n",
       "    </tr>\n",
       "    <tr>\n",
       "      <td>1</td>\n",
       "      <td>0.087854</td>\n",
       "      <td>0.805652</td>\n",
       "      <td>0.723684</td>\n",
       "      <td>0.310526</td>\n",
       "      <td>0.016698</td>\n",
       "      <td>0.013550</td>\n",
       "      <td>1.0</td>\n",
       "      <td>0.0</td>\n",
       "      <td>1.0</td>\n",
       "      <td>0.0</td>\n",
       "      <td>1.0</td>\n",
       "      <td>0.0</td>\n",
       "      <td>0.0</td>\n",
       "      <td>1.0</td>\n",
       "      <td>0.0</td>\n",
       "      <td>1.0</td>\n",
       "      <td>0.0</td>\n",
       "      <td>0.0</td>\n",
       "      <td>0.0</td>\n",
       "      <td>1.0</td>\n",
       "    </tr>\n",
       "    <tr>\n",
       "      <td>2</td>\n",
       "      <td>0.722169</td>\n",
       "      <td>0.795199</td>\n",
       "      <td>0.723684</td>\n",
       "      <td>0.263158</td>\n",
       "      <td>0.016698</td>\n",
       "      <td>0.013550</td>\n",
       "      <td>1.0</td>\n",
       "      <td>0.0</td>\n",
       "      <td>1.0</td>\n",
       "      <td>0.0</td>\n",
       "      <td>0.0</td>\n",
       "      <td>1.0</td>\n",
       "      <td>0.0</td>\n",
       "      <td>1.0</td>\n",
       "      <td>0.0</td>\n",
       "      <td>0.0</td>\n",
       "      <td>1.0</td>\n",
       "      <td>0.0</td>\n",
       "      <td>1.0</td>\n",
       "      <td>0.0</td>\n",
       "    </tr>\n",
       "    <tr>\n",
       "      <td>3</td>\n",
       "      <td>0.614995</td>\n",
       "      <td>0.879597</td>\n",
       "      <td>0.690789</td>\n",
       "      <td>0.394737</td>\n",
       "      <td>0.016698</td>\n",
       "      <td>0.013550</td>\n",
       "      <td>1.0</td>\n",
       "      <td>0.0</td>\n",
       "      <td>1.0</td>\n",
       "      <td>0.0</td>\n",
       "      <td>1.0</td>\n",
       "      <td>0.0</td>\n",
       "      <td>0.0</td>\n",
       "      <td>1.0</td>\n",
       "      <td>0.0</td>\n",
       "      <td>1.0</td>\n",
       "      <td>0.0</td>\n",
       "      <td>0.0</td>\n",
       "      <td>0.0</td>\n",
       "      <td>1.0</td>\n",
       "    </tr>\n",
       "    <tr>\n",
       "      <td>4</td>\n",
       "      <td>0.941328</td>\n",
       "      <td>0.745799</td>\n",
       "      <td>0.690789</td>\n",
       "      <td>0.436842</td>\n",
       "      <td>0.016698</td>\n",
       "      <td>0.013550</td>\n",
       "      <td>1.0</td>\n",
       "      <td>0.0</td>\n",
       "      <td>1.0</td>\n",
       "      <td>0.0</td>\n",
       "      <td>1.0</td>\n",
       "      <td>0.0</td>\n",
       "      <td>0.0</td>\n",
       "      <td>1.0</td>\n",
       "      <td>0.0</td>\n",
       "      <td>0.0</td>\n",
       "      <td>0.0</td>\n",
       "      <td>1.0</td>\n",
       "      <td>0.0</td>\n",
       "      <td>1.0</td>\n",
       "    </tr>\n",
       "  </tbody>\n",
       "</table>\n",
       "</div>"
      ],
      "text/plain": [
       "         id       age    height    weight     ap_hi     ap_lo  gender_1  \\\n",
       "0  0.741850  0.299032  0.769737  0.326316  0.015461  0.011743       1.0   \n",
       "1  0.087854  0.805652  0.723684  0.310526  0.016698  0.013550       1.0   \n",
       "2  0.722169  0.795199  0.723684  0.263158  0.016698  0.013550       1.0   \n",
       "3  0.614995  0.879597  0.690789  0.394737  0.016698  0.013550       1.0   \n",
       "4  0.941328  0.745799  0.690789  0.436842  0.016698  0.013550       1.0   \n",
       "\n",
       "   gender_2  alco_0  alco_1  gluc_1  gluc_2  gluc_3  smoke_0  smoke_1  \\\n",
       "0       0.0     1.0     0.0     1.0     0.0     0.0      1.0      0.0   \n",
       "1       0.0     1.0     0.0     1.0     0.0     0.0      1.0      0.0   \n",
       "2       0.0     1.0     0.0     0.0     1.0     0.0      1.0      0.0   \n",
       "3       0.0     1.0     0.0     1.0     0.0     0.0      1.0      0.0   \n",
       "4       0.0     1.0     0.0     1.0     0.0     0.0      1.0      0.0   \n",
       "\n",
       "   cholesterol_1  cholesterol_2  cholesterol_3  active_0  active_1  \n",
       "0            1.0            0.0            0.0       0.0       1.0  \n",
       "1            1.0            0.0            0.0       0.0       1.0  \n",
       "2            0.0            1.0            0.0       1.0       0.0  \n",
       "3            1.0            0.0            0.0       0.0       1.0  \n",
       "4            0.0            0.0            1.0       0.0       1.0  "
      ]
     },
     "execution_count": 47,
     "metadata": {},
     "output_type": "execute_result"
    }
   ],
   "source": [
    "train_x_scaled = scaler.fit_transform(train_x)\n",
    "train_x_scaled = pd.DataFrame(train_x_scaled, columns=cols)\n",
    "train_x_scaled.head()"
   ]
  },
  {
   "cell_type": "code",
   "execution_count": 48,
   "metadata": {},
   "outputs": [
    {
     "data": {
      "text/html": [
       "<div>\n",
       "<style scoped>\n",
       "    .dataframe tbody tr th:only-of-type {\n",
       "        vertical-align: middle;\n",
       "    }\n",
       "\n",
       "    .dataframe tbody tr th {\n",
       "        vertical-align: top;\n",
       "    }\n",
       "\n",
       "    .dataframe thead th {\n",
       "        text-align: right;\n",
       "    }\n",
       "</style>\n",
       "<table border=\"1\" class=\"dataframe\">\n",
       "  <thead>\n",
       "    <tr style=\"text-align: right;\">\n",
       "      <th></th>\n",
       "      <th>id</th>\n",
       "      <th>age</th>\n",
       "      <th>height</th>\n",
       "      <th>weight</th>\n",
       "      <th>ap_hi</th>\n",
       "      <th>ap_lo</th>\n",
       "      <th>gender_1</th>\n",
       "      <th>gender_2</th>\n",
       "      <th>alco_0</th>\n",
       "      <th>alco_1</th>\n",
       "      <th>gluc_1</th>\n",
       "      <th>gluc_2</th>\n",
       "      <th>gluc_3</th>\n",
       "      <th>smoke_0</th>\n",
       "      <th>smoke_1</th>\n",
       "      <th>cholesterol_1</th>\n",
       "      <th>cholesterol_2</th>\n",
       "      <th>cholesterol_3</th>\n",
       "      <th>active_0</th>\n",
       "      <th>active_1</th>\n",
       "    </tr>\n",
       "  </thead>\n",
       "  <tbody>\n",
       "    <tr>\n",
       "      <td>0</td>\n",
       "      <td>0.764201</td>\n",
       "      <td>0.562834</td>\n",
       "      <td>0.756579</td>\n",
       "      <td>0.289474</td>\n",
       "      <td>0.016698</td>\n",
       "      <td>0.013550</td>\n",
       "      <td>1.0</td>\n",
       "      <td>0.0</td>\n",
       "      <td>1.0</td>\n",
       "      <td>0.0</td>\n",
       "      <td>1.0</td>\n",
       "      <td>0.0</td>\n",
       "      <td>0.0</td>\n",
       "      <td>1.0</td>\n",
       "      <td>0.0</td>\n",
       "      <td>1.0</td>\n",
       "      <td>0.0</td>\n",
       "      <td>0.0</td>\n",
       "      <td>0.0</td>\n",
       "      <td>1.0</td>\n",
       "    </tr>\n",
       "    <tr>\n",
       "      <td>1</td>\n",
       "      <td>0.794142</td>\n",
       "      <td>0.786837</td>\n",
       "      <td>0.723684</td>\n",
       "      <td>0.289474</td>\n",
       "      <td>0.016698</td>\n",
       "      <td>0.013550</td>\n",
       "      <td>1.0</td>\n",
       "      <td>0.0</td>\n",
       "      <td>1.0</td>\n",
       "      <td>0.0</td>\n",
       "      <td>0.0</td>\n",
       "      <td>0.0</td>\n",
       "      <td>1.0</td>\n",
       "      <td>1.0</td>\n",
       "      <td>0.0</td>\n",
       "      <td>0.0</td>\n",
       "      <td>0.0</td>\n",
       "      <td>1.0</td>\n",
       "      <td>1.0</td>\n",
       "      <td>0.0</td>\n",
       "    </tr>\n",
       "    <tr>\n",
       "      <td>2</td>\n",
       "      <td>0.559322</td>\n",
       "      <td>0.627720</td>\n",
       "      <td>0.796053</td>\n",
       "      <td>0.321053</td>\n",
       "      <td>0.019171</td>\n",
       "      <td>0.014453</td>\n",
       "      <td>0.0</td>\n",
       "      <td>1.0</td>\n",
       "      <td>1.0</td>\n",
       "      <td>0.0</td>\n",
       "      <td>1.0</td>\n",
       "      <td>0.0</td>\n",
       "      <td>0.0</td>\n",
       "      <td>0.0</td>\n",
       "      <td>1.0</td>\n",
       "      <td>0.0</td>\n",
       "      <td>1.0</td>\n",
       "      <td>0.0</td>\n",
       "      <td>0.0</td>\n",
       "      <td>1.0</td>\n",
       "    </tr>\n",
       "    <tr>\n",
       "      <td>3</td>\n",
       "      <td>0.477709</td>\n",
       "      <td>0.297871</td>\n",
       "      <td>0.736842</td>\n",
       "      <td>0.273684</td>\n",
       "      <td>0.016698</td>\n",
       "      <td>0.013550</td>\n",
       "      <td>1.0</td>\n",
       "      <td>0.0</td>\n",
       "      <td>1.0</td>\n",
       "      <td>0.0</td>\n",
       "      <td>1.0</td>\n",
       "      <td>0.0</td>\n",
       "      <td>0.0</td>\n",
       "      <td>1.0</td>\n",
       "      <td>0.0</td>\n",
       "      <td>1.0</td>\n",
       "      <td>0.0</td>\n",
       "      <td>0.0</td>\n",
       "      <td>0.0</td>\n",
       "      <td>1.0</td>\n",
       "    </tr>\n",
       "    <tr>\n",
       "      <td>4</td>\n",
       "      <td>0.722869</td>\n",
       "      <td>0.684785</td>\n",
       "      <td>0.677632</td>\n",
       "      <td>0.268421</td>\n",
       "      <td>0.016945</td>\n",
       "      <td>0.014092</td>\n",
       "      <td>1.0</td>\n",
       "      <td>0.0</td>\n",
       "      <td>1.0</td>\n",
       "      <td>0.0</td>\n",
       "      <td>1.0</td>\n",
       "      <td>0.0</td>\n",
       "      <td>0.0</td>\n",
       "      <td>1.0</td>\n",
       "      <td>0.0</td>\n",
       "      <td>1.0</td>\n",
       "      <td>0.0</td>\n",
       "      <td>0.0</td>\n",
       "      <td>0.0</td>\n",
       "      <td>1.0</td>\n",
       "    </tr>\n",
       "  </tbody>\n",
       "</table>\n",
       "</div>"
      ],
      "text/plain": [
       "         id       age    height    weight     ap_hi     ap_lo  gender_1  \\\n",
       "0  0.764201  0.562834  0.756579  0.289474  0.016698  0.013550       1.0   \n",
       "1  0.794142  0.786837  0.723684  0.289474  0.016698  0.013550       1.0   \n",
       "2  0.559322  0.627720  0.796053  0.321053  0.019171  0.014453       0.0   \n",
       "3  0.477709  0.297871  0.736842  0.273684  0.016698  0.013550       1.0   \n",
       "4  0.722869  0.684785  0.677632  0.268421  0.016945  0.014092       1.0   \n",
       "\n",
       "   gender_2  alco_0  alco_1  gluc_1  gluc_2  gluc_3  smoke_0  smoke_1  \\\n",
       "0       0.0     1.0     0.0     1.0     0.0     0.0      1.0      0.0   \n",
       "1       0.0     1.0     0.0     0.0     0.0     1.0      1.0      0.0   \n",
       "2       1.0     1.0     0.0     1.0     0.0     0.0      0.0      1.0   \n",
       "3       0.0     1.0     0.0     1.0     0.0     0.0      1.0      0.0   \n",
       "4       0.0     1.0     0.0     1.0     0.0     0.0      1.0      0.0   \n",
       "\n",
       "   cholesterol_1  cholesterol_2  cholesterol_3  active_0  active_1  \n",
       "0            1.0            0.0            0.0       0.0       1.0  \n",
       "1            0.0            0.0            1.0       1.0       0.0  \n",
       "2            0.0            1.0            0.0       0.0       1.0  \n",
       "3            1.0            0.0            0.0       0.0       1.0  \n",
       "4            1.0            0.0            0.0       0.0       1.0  "
      ]
     },
     "execution_count": 48,
     "metadata": {},
     "output_type": "execute_result"
    }
   ],
   "source": [
    "test_x_scaled = scaler.transform(test_x)\n",
    "test_x_scaled = pd.DataFrame(test_x_scaled, columns=cols)\n",
    "test_x_scaled.head()"
   ]
  },
  {
   "cell_type": "markdown",
   "metadata": {},
   "source": [
    "## Implementing Logistic Regression"
   ]
  },
  {
   "cell_type": "code",
   "execution_count": 49,
   "metadata": {},
   "outputs": [],
   "source": [
    "#importing Logistic Regression and metric F1-score\n",
    "from sklearn.linear_model import LogisticRegression as LogReg\n",
    "from sklearn.metrics import f1_score"
   ]
  },
  {
   "cell_type": "code",
   "execution_count": 50,
   "metadata": {},
   "outputs": [
    {
     "data": {
      "text/plain": [
       "LogisticRegression(C=1.0, class_weight=None, dual=False, fit_intercept=True,\n",
       "                   intercept_scaling=1, l1_ratio=None, max_iter=100,\n",
       "                   multi_class='warn', n_jobs=None, penalty='l2',\n",
       "                   random_state=None, solver='warn', tol=0.0001, verbose=0,\n",
       "                   warm_start=False)"
      ]
     },
     "execution_count": 50,
     "metadata": {},
     "output_type": "execute_result"
    }
   ],
   "source": [
    "# Creating instance of Logistic Regresssion\n",
    "logreg = LogReg()\n",
    "\n",
    "# Fitting the model\n",
    "logreg.fit(train_x, train_y)"
   ]
  },
  {
   "cell_type": "code",
   "execution_count": 51,
   "metadata": {},
   "outputs": [
    {
     "name": "stdout",
     "output_type": "stream",
     "text": [
      "Training f1_score 0.7030245484936601\n"
     ]
    }
   ],
   "source": [
    "#importing train_test_split to create validation set\n",
    "# Calculating f1-score\n",
    "from sklearn.model_selection import train_test_split\n",
    "train_predict = logreg.predict(train_x)\n",
    "k = f1_score(train_predict, train_y)\n",
    "print('Training f1_score', k )"
   ]
  },
  {
   "cell_type": "code",
   "execution_count": 52,
   "metadata": {},
   "outputs": [
    {
     "name": "stdout",
     "output_type": "stream",
     "text": [
      "Test f1_score     0.7014880414482799\n"
     ]
    },
    {
     "data": {
      "text/plain": [
       "(array([0, 1, 1, 0, 0, 0, 1, 0, 1, 1], dtype=int64), 0.7168571428571429)"
      ]
     },
     "execution_count": 52,
     "metadata": {},
     "output_type": "execute_result"
    }
   ],
   "source": [
    "# Predicting over the Test Set and f1-score\n",
    "test_predict = logreg.predict(test_x)\n",
    "k = f1_score(test_predict, test_y)\n",
    "print('Test f1_score    ', k )\n",
    "pred2 = logreg.predict(test_x)\n",
    "pred2[:10], logreg.score(test_x, test_y)"
   ]
  },
  {
   "cell_type": "markdown",
   "metadata": {},
   "source": [
    "## 3) Decision Tree"
   ]
  },
  {
   "cell_type": "code",
   "execution_count": 53,
   "metadata": {},
   "outputs": [],
   "source": [
    "#importing train_test_split to create validation set\n",
    "from sklearn.model_selection import train_test_split\n",
    "#creating the train and validation set\n",
    "x_train, test_x, y_train, test_y = train_test_split(x, y, random_state = 101, stratify=None, test_size=0.25)"
   ]
  },
  {
   "cell_type": "code",
   "execution_count": 54,
   "metadata": {},
   "outputs": [
    {
     "data": {
      "text/plain": [
       "1    0.50059\n",
       "0    0.49941\n",
       "Name: cardio, dtype: float64"
      ]
     },
     "execution_count": 54,
     "metadata": {},
     "output_type": "execute_result"
    }
   ],
   "source": [
    "# distribution in training set\n",
    "y_train.value_counts(normalize=True)"
   ]
  },
  {
   "cell_type": "code",
   "execution_count": 55,
   "metadata": {},
   "outputs": [
    {
     "data": {
      "text/plain": [
       "0    0.502971\n",
       "1    0.497029\n",
       "Name: cardio, dtype: float64"
      ]
     },
     "execution_count": 55,
     "metadata": {},
     "output_type": "execute_result"
    }
   ],
   "source": [
    "# distribution in training set\n",
    "test_y.value_counts(normalize=True)"
   ]
  },
  {
   "cell_type": "code",
   "execution_count": 56,
   "metadata": {},
   "outputs": [],
   "source": [
    "#importing decision tree classifier \n",
    "from sklearn.tree import DecisionTreeClassifier"
   ]
  },
  {
   "cell_type": "code",
   "execution_count": 57,
   "metadata": {},
   "outputs": [],
   "source": [
    "#creating the decision tree function\n",
    "dt_model = DecisionTreeClassifier(random_state=10)"
   ]
  },
  {
   "cell_type": "code",
   "execution_count": 58,
   "metadata": {},
   "outputs": [
    {
     "data": {
      "text/plain": [
       "DecisionTreeClassifier(class_weight=None, criterion='gini', max_depth=None,\n",
       "                       max_features=None, max_leaf_nodes=None,\n",
       "                       min_impurity_decrease=0.0, min_impurity_split=None,\n",
       "                       min_samples_leaf=1, min_samples_split=2,\n",
       "                       min_weight_fraction_leaf=0.0, presort=False,\n",
       "                       random_state=10, splitter='best')"
      ]
     },
     "execution_count": 58,
     "metadata": {},
     "output_type": "execute_result"
    }
   ],
   "source": [
    "#fitting the model\n",
    "dt_model.fit(x_train, y_train)"
   ]
  },
  {
   "cell_type": "code",
   "execution_count": 59,
   "metadata": {},
   "outputs": [
    {
     "data": {
      "text/plain": [
       "1.0"
      ]
     },
     "execution_count": 59,
     "metadata": {},
     "output_type": "execute_result"
    }
   ],
   "source": [
    "#checking the training score\n",
    "dt_model.score(x_train, y_train)"
   ]
  },
  {
   "cell_type": "code",
   "execution_count": 60,
   "metadata": {},
   "outputs": [
    {
     "data": {
      "text/plain": [
       "0.6337714285714285"
      ]
     },
     "execution_count": 60,
     "metadata": {},
     "output_type": "execute_result"
    }
   ],
   "source": [
    "#checking the validation score\n",
    "dt_model.score(test_x, test_y)"
   ]
  },
  {
   "cell_type": "markdown",
   "metadata": {},
   "source": [
    "### Changing the maximum depth"
   ]
  },
  {
   "cell_type": "code",
   "execution_count": 61,
   "metadata": {},
   "outputs": [],
   "source": [
    "train_accuracy = []\n",
    "validation_accuracy = []\n",
    "for depth in range(1,10):\n",
    "    dt_model = DecisionTreeClassifier(max_depth=depth, random_state=10)\n",
    "    dt_model.fit(x_train, y_train)\n",
    "    train_accuracy.append(dt_model.score(x_train, y_train))\n",
    "    validation_accuracy.append(dt_model.score(test_x, test_y))"
   ]
  },
  {
   "cell_type": "code",
   "execution_count": 62,
   "metadata": {},
   "outputs": [
    {
     "data": {
      "text/html": [
       "<div>\n",
       "<style scoped>\n",
       "    .dataframe tbody tr th:only-of-type {\n",
       "        vertical-align: middle;\n",
       "    }\n",
       "\n",
       "    .dataframe tbody tr th {\n",
       "        vertical-align: top;\n",
       "    }\n",
       "\n",
       "    .dataframe thead th {\n",
       "        text-align: right;\n",
       "    }\n",
       "</style>\n",
       "<table border=\"1\" class=\"dataframe\">\n",
       "  <thead>\n",
       "    <tr style=\"text-align: right;\">\n",
       "      <th></th>\n",
       "      <th>max_depth</th>\n",
       "      <th>train_acc</th>\n",
       "      <th>valid_acc</th>\n",
       "    </tr>\n",
       "  </thead>\n",
       "  <tbody>\n",
       "    <tr>\n",
       "      <td>0</td>\n",
       "      <td>1</td>\n",
       "      <td>0.713524</td>\n",
       "      <td>0.715029</td>\n",
       "    </tr>\n",
       "    <tr>\n",
       "      <td>1</td>\n",
       "      <td>2</td>\n",
       "      <td>0.713524</td>\n",
       "      <td>0.715029</td>\n",
       "    </tr>\n",
       "    <tr>\n",
       "      <td>2</td>\n",
       "      <td>3</td>\n",
       "      <td>0.725410</td>\n",
       "      <td>0.726914</td>\n",
       "    </tr>\n",
       "    <tr>\n",
       "      <td>3</td>\n",
       "      <td>4</td>\n",
       "      <td>0.729962</td>\n",
       "      <td>0.728286</td>\n",
       "    </tr>\n",
       "    <tr>\n",
       "      <td>4</td>\n",
       "      <td>5</td>\n",
       "      <td>0.734019</td>\n",
       "      <td>0.727371</td>\n",
       "    </tr>\n",
       "  </tbody>\n",
       "</table>\n",
       "</div>"
      ],
      "text/plain": [
       "   max_depth  train_acc  valid_acc\n",
       "0          1   0.713524   0.715029\n",
       "1          2   0.713524   0.715029\n",
       "2          3   0.725410   0.726914\n",
       "3          4   0.729962   0.728286\n",
       "4          5   0.734019   0.727371"
      ]
     },
     "execution_count": 62,
     "metadata": {},
     "output_type": "execute_result"
    }
   ],
   "source": [
    "frame = pd.DataFrame({'max_depth':range(1,10), 'train_acc':train_accuracy, 'valid_acc':validation_accuracy})\n",
    "frame.head()"
   ]
  },
  {
   "cell_type": "code",
   "execution_count": 63,
   "metadata": {},
   "outputs": [
    {
     "data": {
      "text/plain": [
       "Text(0, 0.5, 'performance')"
      ]
     },
     "execution_count": 63,
     "metadata": {},
     "output_type": "execute_result"
    },
    {
     "data": {
      "image/png": "[encoded data removed]",
      "text/plain": [
       "<Figure size 864x432 with 1 Axes>"
      ]
     },
     "metadata": {
      "needs_background": "light"
     },
     "output_type": "display_data"
    }
   ],
   "source": [
    "plt.figure(figsize=(12,6))\n",
    "plt.plot(frame['max_depth'], frame['train_acc'], marker='o')\n",
    "plt.plot(frame['max_depth'], frame['valid_acc'], marker='o')\n",
    "plt.xlabel('Depth of tree')\n",
    "plt.ylabel('performance')"
   ]
  },
  {
   "cell_type": "markdown",
   "metadata": {},
   "source": [
    "- blue line = train_accuracy\n",
    "- yellow line = validation_accuracy"
   ]
  },
  {
   "cell_type": "code",
   "execution_count": 64,
   "metadata": {},
   "outputs": [],
   "source": [
    "dt_model = DecisionTreeClassifier(max_depth=7, max_leaf_nodes=100, random_state=10)"
   ]
  },
  {
   "cell_type": "code",
   "execution_count": 65,
   "metadata": {},
   "outputs": [
    {
     "data": {
      "text/plain": [
       "DecisionTreeClassifier(class_weight=None, criterion='gini', max_depth=7,\n",
       "                       max_features=None, max_leaf_nodes=100,\n",
       "                       min_impurity_decrease=0.0, min_impurity_split=None,\n",
       "                       min_samples_leaf=1, min_samples_split=2,\n",
       "                       min_weight_fraction_leaf=0.0, presort=False,\n",
       "                       random_state=10, splitter='best')"
      ]
     },
     "execution_count": 65,
     "metadata": {},
     "output_type": "execute_result"
    }
   ],
   "source": [
    "#fitting the model\n",
    "dt_model.fit(x_train, y_train)"
   ]
  },
  {
   "cell_type": "code",
   "execution_count": 66,
   "metadata": {},
   "outputs": [
    {
     "data": {
      "text/plain": [
       "0.7387809523809524"
      ]
     },
     "execution_count": 66,
     "metadata": {},
     "output_type": "execute_result"
    }
   ],
   "source": [
    "#Training score\n",
    "dt_model.score(x_train, y_train)"
   ]
  },
  {
   "cell_type": "code",
   "execution_count": 67,
   "metadata": {},
   "outputs": [
    {
     "data": {
      "text/plain": [
       "0.7292"
      ]
     },
     "execution_count": 67,
     "metadata": {},
     "output_type": "execute_result"
    }
   ],
   "source": [
    "#Validation score\n",
    "dt_model.score(test_x, test_y)"
   ]
  },
  {
   "cell_type": "code",
   "execution_count": 68,
   "metadata": {},
   "outputs": [
    {
     "data": {
      "text/plain": [
       "array([1, 0, 0, 1, 1, 0, 0, 1, 1, 1], dtype=int64)"
      ]
     },
     "execution_count": 68,
     "metadata": {},
     "output_type": "execute_result"
    }
   ],
   "source": [
    "pred3 = dt_model.predict(test_x)\n",
    "pred3[:10]"
   ]
  },
  {
   "cell_type": "markdown",
   "metadata": {},
   "source": [
    "## 4) Random forest"
   ]
  },
  {
   "cell_type": "code",
   "execution_count": 10,
   "metadata": {},
   "outputs": [],
   "source": [
    "#Importing random forest classifier \n",
    "from sklearn.ensemble import RandomForestClassifier"
   ]
  },
  {
   "cell_type": "code",
   "execution_count": 11,
   "metadata": {},
   "outputs": [],
   "source": [
    "#creating a random forest instance\n",
    "clf = RandomForestClassifier(random_state=96, n_estimators=100, max_depth=15)"
   ]
  },
  {
   "cell_type": "code",
   "execution_count": 12,
   "metadata": {},
   "outputs": [
    {
     "data": {
      "text/plain": [
       "RandomForestClassifier(bootstrap=True, class_weight=None, criterion='gini',\n",
       "                       max_depth=15, max_features='auto', max_leaf_nodes=None,\n",
       "                       min_impurity_decrease=0.0, min_impurity_split=None,\n",
       "                       min_samples_leaf=1, min_samples_split=2,\n",
       "                       min_weight_fraction_leaf=0.0, n_estimators=100,\n",
       "                       n_jobs=None, oob_score=False, random_state=96, verbose=0,\n",
       "                       warm_start=False)"
      ]
     },
     "execution_count": 12,
     "metadata": {},
     "output_type": "execute_result"
    }
   ],
   "source": [
    "#train the model\n",
    "clf.fit(train_x,train_y)"
   ]
  },
  {
   "cell_type": "code",
   "execution_count": 13,
   "metadata": {},
   "outputs": [
    {
     "data": {
      "text/plain": [
       "0.8218666666666666"
      ]
     },
     "execution_count": 13,
     "metadata": {},
     "output_type": "execute_result"
    }
   ],
   "source": [
    "#score on training data\n",
    "clf.score(train_x, train_y)"
   ]
  },
  {
   "cell_type": "code",
   "execution_count": 14,
   "metadata": {},
   "outputs": [
    {
     "data": {
      "text/plain": [
       "0.7322857142857143"
      ]
     },
     "execution_count": 14,
     "metadata": {},
     "output_type": "execute_result"
    }
   ],
   "source": [
    "#score on test data\n",
    "clf.score(test_x, test_y)"
   ]
  },
  {
   "cell_type": "code",
   "execution_count": 79,
   "metadata": {},
   "outputs": [
    {
     "data": {
      "text/plain": [
       "array([1, 0, 0, 1, 1, 0, 0, 1, 1, 0], dtype=int64)"
      ]
     },
     "execution_count": 79,
     "metadata": {},
     "output_type": "execute_result"
    }
   ],
   "source": [
    "pred4 = clf.predict(test_x)\n",
    "pred4[:10]"
   ]
  },
  {
   "cell_type": "code",
   "execution_count": 80,
   "metadata": {},
   "outputs": [
    {
     "data": {
      "text/plain": [
       "id               0.086743\n",
       "age              0.158075\n",
       "height           0.065901\n",
       "weight           0.087276\n",
       "ap_hi            0.334774\n",
       "ap_lo            0.130221\n",
       "gender_1         0.006525\n",
       "gender_2         0.006705\n",
       "alco_0           0.004521\n",
       "alco_1           0.004538\n",
       "gluc_1           0.008220\n",
       "gluc_2           0.005195\n",
       "gluc_3           0.006456\n",
       "smoke_0          0.005000\n",
       "smoke_1          0.004685\n",
       "cholesterol_1    0.030833\n",
       "cholesterol_2    0.008699\n",
       "cholesterol_3    0.031899\n",
       "active_0         0.006965\n",
       "active_1         0.006769\n",
       "dtype: float64"
      ]
     },
     "execution_count": 80,
     "metadata": {},
     "output_type": "execute_result"
    }
   ],
   "source": [
    "#feature importance against each variable\n",
    "pd.Series(clf.feature_importances_, index=train_x.columns)"
   ]
  },
  {
   "cell_type": "markdown",
   "metadata": {},
   "source": [
    "## 5) SVM"
   ]
  },
  {
   "cell_type": "code",
   "execution_count": 87,
   "metadata": {},
   "outputs": [],
   "source": [
    "from sklearn.preprocessing import MinMaxScaler\n",
    "scaler = MinMaxScaler()\n",
    "train_x_scaled = scaler.fit_transform(train_x)\n",
    "test_x_scaled = scaler.transform(test_x)"
   ]
  },
  {
   "cell_type": "code",
   "execution_count": 88,
   "metadata": {},
   "outputs": [
    {
     "data": {
      "text/plain": [
       "SVC(C=1.0, cache_size=200, class_weight=None, coef0=0.0,\n",
       "    decision_function_shape='ovr', degree=3, gamma='auto_deprecated',\n",
       "    kernel='linear', max_iter=-1, probability=False, random_state=0,\n",
       "    shrinking=True, tol=0.001, verbose=False)"
      ]
     },
     "execution_count": 88,
     "metadata": {},
     "output_type": "execute_result"
    }
   ],
   "source": [
    "from sklearn.svm import SVC\n",
    "classifier = SVC(kernel = 'linear', random_state = 0)\n",
    "classifier.fit(train_x, train_y)"
   ]
  },
  {
   "cell_type": "code",
   "execution_count": 89,
   "metadata": {},
   "outputs": [
    {
     "data": {
      "text/plain": [
       "0.7176190476190476"
      ]
     },
     "execution_count": 89,
     "metadata": {},
     "output_type": "execute_result"
    }
   ],
   "source": [
    "classifier.score(train_x, train_y)"
   ]
  },
  {
   "cell_type": "code",
   "execution_count": 90,
   "metadata": {},
   "outputs": [
    {
     "data": {
      "text/plain": [
       "0.7172"
      ]
     },
     "execution_count": 90,
     "metadata": {},
     "output_type": "execute_result"
    }
   ],
   "source": [
    "classifier.score(test_x, test_y)"
   ]
  },
  {
   "cell_type": "code",
   "execution_count": 91,
   "metadata": {},
   "outputs": [
    {
     "data": {
      "text/plain": [
       "array([1, 0, 1, 1, 1, 0, 1, 1, 1, 1], dtype=int64)"
      ]
     },
     "execution_count": 91,
     "metadata": {},
     "output_type": "execute_result"
    }
   ],
   "source": [
    "pred5 = classifier.predict(test_x)\n",
    "pred5[:10]"
   ]
  },
  {
   "cell_type": "markdown",
   "metadata": {},
   "source": [
    "## 6) Neural Network"
   ]
  },
  {
   "cell_type": "code",
   "execution_count": 92,
   "metadata": {},
   "outputs": [],
   "source": [
    "from sklearn.neural_network import MLPClassifier"
   ]
  },
  {
   "cell_type": "code",
   "execution_count": 93,
   "metadata": {},
   "outputs": [],
   "source": [
    "clf= MLPClassifier(random_state=1)"
   ]
  },
  {
   "cell_type": "code",
   "execution_count": 94,
   "metadata": {},
   "outputs": [
    {
     "data": {
      "text/plain": [
       "MLPClassifier(activation='relu', alpha=0.0001, batch_size='auto', beta_1=0.9,\n",
       "              beta_2=0.999, early_stopping=False, epsilon=1e-08,\n",
       "              hidden_layer_sizes=(100,), learning_rate='constant',\n",
       "              learning_rate_init=0.001, max_iter=200, momentum=0.9,\n",
       "              n_iter_no_change=10, nesterovs_momentum=True, power_t=0.5,\n",
       "              random_state=1, shuffle=True, solver='adam', tol=0.0001,\n",
       "              validation_fraction=0.1, verbose=False, warm_start=False)"
      ]
     },
     "execution_count": 94,
     "metadata": {},
     "output_type": "execute_result"
    }
   ],
   "source": [
    "clf.fit(train_x, train_y)"
   ]
  },
  {
   "cell_type": "code",
   "execution_count": 95,
   "metadata": {},
   "outputs": [
    {
     "data": {
      "text/plain": [
       "0.634552380952381"
      ]
     },
     "execution_count": 95,
     "metadata": {},
     "output_type": "execute_result"
    }
   ],
   "source": [
    "clf.score(train_x, train_y)"
   ]
  },
  {
   "cell_type": "code",
   "execution_count": 96,
   "metadata": {},
   "outputs": [
    {
     "data": {
      "text/plain": [
       "0.6388571428571429"
      ]
     },
     "execution_count": 96,
     "metadata": {},
     "output_type": "execute_result"
    }
   ],
   "source": [
    "clf.score(test_x, test_y)"
   ]
  },
  {
   "cell_type": "markdown",
   "metadata": {},
   "source": [
    "## 7) XGBoost"
   ]
  },
  {
   "cell_type": "code",
   "execution_count": 40,
   "metadata": {},
   "outputs": [
    {
     "name": "stdout",
     "output_type": "stream",
     "text": [
      "Requirement already satisfied: xgboost in c:\\users\\gauri\\anaconda3\\lib\\site-packages (0.90)\n",
      "Requirement already satisfied: scipy in c:\\users\\gauri\\anaconda3\\lib\\site-packages (from xgboost) (1.3.1)\n",
      "Requirement already satisfied: numpy in c:\\users\\gauri\\anaconda3\\lib\\site-packages (from xgboost) (1.16.5)\n"
     ]
    }
   ],
   "source": [
    "!pip install xgboost"
   ]
  },
  {
   "cell_type": "code",
   "execution_count": 36,
   "metadata": {},
   "outputs": [],
   "source": [
    "import xgboost as xgb"
   ]
  },
  {
   "cell_type": "code",
   "execution_count": 37,
   "metadata": {},
   "outputs": [],
   "source": [
    "from xgboost import XGBClassifier"
   ]
  },
  {
   "cell_type": "code",
   "execution_count": 38,
   "metadata": {},
   "outputs": [],
   "source": [
    "clf = xgb.XGBClassifier(learning_rate=0.2, random_state=12)"
   ]
  },
  {
   "cell_type": "code",
   "execution_count": 39,
   "metadata": {},
   "outputs": [
    {
     "data": {
      "text/plain": [
       "XGBClassifier(base_score=0.5, booster='gbtree', colsample_bylevel=1,\n",
       "              colsample_bynode=1, colsample_bytree=1, gamma=0,\n",
       "              learning_rate=0.2, max_delta_step=0, max_depth=3,\n",
       "              min_child_weight=1, missing=None, n_estimators=100, n_jobs=1,\n",
       "              nthread=None, objective='binary:logistic', random_state=12,\n",
       "              reg_alpha=0, reg_lambda=1, scale_pos_weight=1, seed=None,\n",
       "              silent=None, subsample=1, verbosity=1)"
      ]
     },
     "execution_count": 39,
     "metadata": {},
     "output_type": "execute_result"
    }
   ],
   "source": [
    "clf.fit(train_x, train_y)"
   ]
  },
  {
   "cell_type": "code",
   "execution_count": 40,
   "metadata": {},
   "outputs": [
    {
     "data": {
      "text/plain": [
       "0.7414095238095239"
      ]
     },
     "execution_count": 40,
     "metadata": {},
     "output_type": "execute_result"
    }
   ],
   "source": [
    "clf.score(train_x, train_y)"
   ]
  },
  {
   "cell_type": "code",
   "execution_count": 41,
   "metadata": {},
   "outputs": [
    {
     "data": {
      "text/plain": [
       "0.7344571428571428"
      ]
     },
     "execution_count": 41,
     "metadata": {},
     "output_type": "execute_result"
    }
   ],
   "source": [
    "clf.score(test_x, test_y)"
   ]
  },
  {
   "cell_type": "code",
   "execution_count": 42,
   "metadata": {},
   "outputs": [
    {
     "data": {
      "text/plain": [
       "array([0, 0, 1, 1, 0, 1, 1, 0, 0, 0], dtype=int64)"
      ]
     },
     "execution_count": 42,
     "metadata": {},
     "output_type": "execute_result"
    }
   ],
   "source": [
    "pred6 = clf.predict(test_x)\n",
    "pred6[:10]"
   ]
  },
  {
   "cell_type": "markdown",
   "metadata": {},
   "source": [
    "## 8) Artificial Neural Network (ANN)"
   ]
  },
  {
   "cell_type": "code",
   "execution_count": 43,
   "metadata": {},
   "outputs": [],
   "source": [
    "from sklearn.preprocessing import StandardScaler\n",
    "sc=StandardScaler()\n",
    "train_x=sc.fit_transform(train_x)\n",
    "test_x=sc.transform(test_x)"
   ]
  },
  {
   "cell_type": "code",
   "execution_count": 44,
   "metadata": {},
   "outputs": [
    {
     "name": "stderr",
     "output_type": "stream",
     "text": [
      "Using TensorFlow backend.\n"
     ]
    }
   ],
   "source": [
    "import keras\n",
    "from keras.models import Sequential\n",
    "from keras.layers import Dense"
   ]
  },
  {
   "cell_type": "code",
   "execution_count": 45,
   "metadata": {},
   "outputs": [
    {
     "name": "stdout",
     "output_type": "stream",
     "text": [
      "Epoch 1/200\n",
      "52500/52500 [==============================] - 6s 109us/step - loss: 0.6090 - accuracy: 0.6781\n",
      "Epoch 2/200\n",
      "52500/52500 [==============================] - 2s 36us/step - loss: 0.5713 - accuracy: 0.7234\n",
      "Epoch 3/200\n",
      "52500/52500 [==============================] - 2s 35us/step - loss: 0.5650 - accuracy: 0.7276\n",
      "Epoch 4/200\n",
      "52500/52500 [==============================] - 2s 38us/step - loss: 0.5601 - accuracy: 0.7315 0s - loss: 0.5609 - accuracy: 0.\n",
      "Epoch 5/200\n",
      "52500/52500 [==============================] - 2s 38us/step - loss: 0.5560 - accuracy: 0.7321\n",
      "Epoch 6/200\n",
      "52500/52500 [==============================] - 2s 39us/step - loss: 0.5509 - accuracy: 0.7331\n",
      "Epoch 7/200\n",
      "52500/52500 [==============================] - 2s 42us/step - loss: 0.5469 - accuracy: 0.7319\n",
      "Epoch 8/200\n",
      "52500/52500 [==============================] - 2s 36us/step - loss: 0.5431 - accuracy: 0.7341\n",
      "Epoch 9/200\n",
      "52500/52500 [==============================] - 2s 36us/step - loss: 0.5418 - accuracy: 0.7356\n",
      "Epoch 10/200\n",
      "52500/52500 [==============================] - 2s 34us/step - loss: 0.5417 - accuracy: 0.7357\n",
      "Epoch 11/200\n",
      "52500/52500 [==============================] - 2s 36us/step - loss: 0.5407 - accuracy: 0.7350\n",
      "Epoch 12/200\n",
      "52500/52500 [==============================] - 2s 36us/step - loss: 0.5403 - accuracy: 0.7363\n",
      "Epoch 13/200\n",
      "52500/52500 [==============================] - 2s 42us/step - loss: 0.5390 - accuracy: 0.7384\n",
      "Epoch 14/200\n",
      "52500/52500 [==============================] - 2s 45us/step - loss: 0.5391 - accuracy: 0.7376\n",
      "Epoch 15/200\n",
      "52500/52500 [==============================] - 2s 36us/step - loss: 0.5380 - accuracy: 0.7360\n",
      "Epoch 16/200\n",
      "52500/52500 [==============================] - 2s 39us/step - loss: 0.5368 - accuracy: 0.7369\n",
      "Epoch 17/200\n",
      "52500/52500 [==============================] - 2s 40us/step - loss: 0.5373 - accuracy: 0.7375\n",
      "Epoch 18/200\n",
      "52500/52500 [==============================] - 2s 39us/step - loss: 0.5369 - accuracy: 0.7378\n",
      "Epoch 19/200\n",
      "52500/52500 [==============================] - 3s 50us/step - loss: 0.5373 - accuracy: 0.7375 0s - loss: 0.5381 - accura\n",
      "Epoch 20/200\n",
      "52500/52500 [==============================] - 3s 51us/step - loss: 0.5373 - accuracy: 0.7390 0s - loss: 0.537\n",
      "Epoch 21/200\n",
      "52500/52500 [==============================] - 3s 50us/step - loss: 0.5370 - accuracy: 0.7384\n",
      "Epoch 22/200\n",
      "52500/52500 [==============================] - 2s 36us/step - loss: 0.5369 - accuracy: 0.7386 0s - loss: 0.5387 - ac\n",
      "Epoch 23/200\n",
      "52500/52500 [==============================] - 2s 36us/step - loss: 0.5350 - accuracy: 0.7385\n",
      "Epoch 24/200\n",
      "52500/52500 [==============================] - 2s 36us/step - loss: 0.5349 - accuracy: 0.7390\n",
      "Epoch 25/200\n",
      "52500/52500 [==============================] - 2s 39us/step - loss: 0.5340 - accuracy: 0.7383\n",
      "Epoch 26/200\n",
      "52500/52500 [==============================] - 3s 50us/step - loss: 0.5357 - accuracy: 0.7384\n",
      "Epoch 27/200\n",
      "52500/52500 [==============================] - 3s 49us/step - loss: 0.5339 - accuracy: 0.7391\n",
      "Epoch 28/200\n",
      "52500/52500 [==============================] - 2s 40us/step - loss: 0.5356 - accuracy: 0.7395\n",
      "Epoch 29/200\n",
      "52500/52500 [==============================] - 2s 36us/step - loss: 0.5343 - accuracy: 0.7392\n",
      "Epoch 30/200\n",
      "52500/52500 [==============================] - 2s 35us/step - loss: 0.5336 - accuracy: 0.7390\n",
      "Epoch 31/200\n",
      "52500/52500 [==============================] - 2s 43us/step - loss: 0.5348 - accuracy: 0.7395\n",
      "Epoch 32/200\n",
      "52500/52500 [==============================] - 2s 41us/step - loss: 0.5323 - accuracy: 0.7405\n",
      "Epoch 33/200\n",
      "52500/52500 [==============================] - 2s 41us/step - loss: 0.5321 - accuracy: 0.7403\n",
      "Epoch 34/200\n",
      "52500/52500 [==============================] - 3s 51us/step - loss: 0.5334 - accuracy: 0.7407\n",
      "Epoch 35/200\n",
      "52500/52500 [==============================] - 3s 55us/step - loss: 0.5329 - accuracy: 0.7401\n",
      "Epoch 36/200\n",
      "52500/52500 [==============================] - 2s 47us/step - loss: 0.5317 - accuracy: 0.7413\n",
      "Epoch 37/200\n",
      "52500/52500 [==============================] - 2s 35us/step - loss: 0.5320 - accuracy: 0.7421\n",
      "Epoch 38/200\n",
      "52500/52500 [==============================] - 2s 35us/step - loss: 0.5331 - accuracy: 0.7414\n",
      "Epoch 39/200\n",
      "52500/52500 [==============================] - 2s 36us/step - loss: 0.5308 - accuracy: 0.7397\n",
      "Epoch 40/200\n",
      "52500/52500 [==============================] - 2s 36us/step - loss: 0.5314 - accuracy: 0.7410\n",
      "Epoch 41/200\n",
      "52500/52500 [==============================] - 2s 36us/step - loss: 0.5316 - accuracy: 0.7410\n",
      "Epoch 42/200\n",
      "52500/52500 [==============================] - 2s 35us/step - loss: 0.5315 - accuracy: 0.7412\n",
      "Epoch 43/200\n",
      "52500/52500 [==============================] - 2s 39us/step - loss: 0.5317 - accuracy: 0.7408\n",
      "Epoch 44/200\n",
      "52500/52500 [==============================] - 2s 44us/step - loss: 0.5305 - accuracy: 0.7419\n",
      "Epoch 45/200\n",
      "52500/52500 [==============================] - 2s 39us/step - loss: 0.5316 - accuracy: 0.7416\n",
      "Epoch 46/200\n",
      "52500/52500 [==============================] - 2s 38us/step - loss: 0.5306 - accuracy: 0.7418\n",
      "Epoch 47/200\n",
      "52500/52500 [==============================] - 2s 37us/step - loss: 0.5316 - accuracy: 0.7429\n",
      "Epoch 48/200\n",
      "52500/52500 [==============================] - 2s 37us/step - loss: 0.5293 - accuracy: 0.7416\n",
      "Epoch 49/200\n",
      "52500/52500 [==============================] - 2s 39us/step - loss: 0.5295 - accuracy: 0.7433\n",
      "Epoch 50/200\n",
      "52500/52500 [==============================] - 2s 42us/step - loss: 0.5281 - accuracy: 0.7420\n",
      "Epoch 51/200\n",
      "52500/52500 [==============================] - 2s 36us/step - loss: 0.5290 - accuracy: 0.7422\n",
      "Epoch 52/200\n",
      "52500/52500 [==============================] - 2s 37us/step - loss: 0.5286 - accuracy: 0.7438 0s - loss: 0.5286 - accuracy: 0.74\n",
      "Epoch 53/200\n",
      "52500/52500 [==============================] - 2s 38us/step - loss: 0.5294 - accuracy: 0.7424\n",
      "Epoch 54/200\n",
      "52500/52500 [==============================] - 2s 43us/step - loss: 0.5297 - accuracy: 0.7431\n",
      "Epoch 55/200\n",
      "52500/52500 [==============================] - 3s 64us/step - loss: 0.5289 - accuracy: 0.7427  - ETA: 0s - loss: 0.5291 - accuracy: \n",
      "Epoch 56/200\n",
      "52500/52500 [==============================] - 2s 47us/step - loss: 0.5279 - accuracy: 0.7431\n",
      "Epoch 57/200\n",
      "52500/52500 [==============================] - 3s 50us/step - loss: 0.5292 - accuracy: 0.7431\n",
      "Epoch 58/200\n",
      "52500/52500 [==============================] - 2s 43us/step - loss: 0.5301 - accuracy: 0.7427\n",
      "Epoch 59/200\n",
      "52500/52500 [==============================] - 2s 39us/step - loss: 0.5280 - accuracy: 0.7431\n",
      "Epoch 60/200\n",
      "52500/52500 [==============================] - 2s 37us/step - loss: 0.5279 - accuracy: 0.7446\n",
      "Epoch 61/200\n",
      "52500/52500 [==============================] - 2s 38us/step - loss: 0.5288 - accuracy: 0.7450\n",
      "Epoch 62/200\n",
      "52500/52500 [==============================] - 2s 38us/step - loss: 0.5260 - accuracy: 0.7446\n",
      "Epoch 63/200\n",
      "52500/52500 [==============================] - 2s 40us/step - loss: 0.5264 - accuracy: 0.7434\n",
      "Epoch 64/200\n",
      "52500/52500 [==============================] - 2s 37us/step - loss: 0.5264 - accuracy: 0.7449\n",
      "Epoch 65/200\n",
      "52500/52500 [==============================] - 2s 36us/step - loss: 0.5258 - accuracy: 0.7448\n",
      "Epoch 66/200\n",
      "52500/52500 [==============================] - 2s 37us/step - loss: 0.5267 - accuracy: 0.7431\n",
      "Epoch 67/200\n",
      "52500/52500 [==============================] - 2s 37us/step - loss: 0.5254 - accuracy: 0.7451\n",
      "Epoch 68/200\n",
      "52500/52500 [==============================] - 2s 39us/step - loss: 0.5273 - accuracy: 0.7453\n",
      "Epoch 69/200\n",
      "52500/52500 [==============================] - 2s 37us/step - loss: 0.5247 - accuracy: 0.7436\n",
      "Epoch 70/200\n",
      "52500/52500 [==============================] - 2s 36us/step - loss: 0.5268 - accuracy: 0.7438\n",
      "Epoch 71/200\n",
      "52500/52500 [==============================] - 2s 36us/step - loss: 0.5244 - accuracy: 0.7443\n",
      "Epoch 72/200\n",
      "52500/52500 [==============================] - 2s 36us/step - loss: 0.5261 - accuracy: 0.7440\n",
      "Epoch 73/200\n",
      "52500/52500 [==============================] - 2s 43us/step - loss: 0.5264 - accuracy: 0.7439\n",
      "Epoch 74/200\n",
      "52500/52500 [==============================] - 2s 38us/step - loss: 0.5239 - accuracy: 0.7451\n",
      "Epoch 75/200\n",
      "52500/52500 [==============================] - 2s 42us/step - loss: 0.5262 - accuracy: 0.7456\n",
      "Epoch 76/200\n"
     ]
    },
    {
     "name": "stdout",
     "output_type": "stream",
     "text": [
      "52500/52500 [==============================] - 2s 37us/step - loss: 0.5250 - accuracy: 0.7445\n",
      "Epoch 77/200\n",
      "52500/52500 [==============================] - 2s 44us/step - loss: 0.5247 - accuracy: 0.7453\n",
      "Epoch 78/200\n",
      "52500/52500 [==============================] - 3s 61us/step - loss: 0.5234 - accuracy: 0.7449\n",
      "Epoch 79/200\n",
      "52500/52500 [==============================] - 3s 49us/step - loss: 0.5261 - accuracy: 0.7453\n",
      "Epoch 80/200\n",
      "52500/52500 [==============================] - 3s 48us/step - loss: 0.5244 - accuracy: 0.7441\n",
      "Epoch 81/200\n",
      "52500/52500 [==============================] - 2s 38us/step - loss: 0.5252 - accuracy: 0.7462\n",
      "Epoch 82/200\n",
      "52500/52500 [==============================] - 2s 43us/step - loss: 0.5222 - accuracy: 0.7464\n",
      "Epoch 83/200\n",
      "52500/52500 [==============================] - 2s 40us/step - loss: 0.5244 - accuracy: 0.7458\n",
      "Epoch 84/200\n",
      "52500/52500 [==============================] - 2s 37us/step - loss: 0.5235 - accuracy: 0.7464\n",
      "Epoch 85/200\n",
      "52500/52500 [==============================] - 2s 43us/step - loss: 0.5239 - accuracy: 0.7469\n",
      "Epoch 86/200\n",
      "52500/52500 [==============================] - 2s 38us/step - loss: 0.5225 - accuracy: 0.7458\n",
      "Epoch 87/200\n",
      "52500/52500 [==============================] - 2s 37us/step - loss: 0.5213 - accuracy: 0.7458\n",
      "Epoch 88/200\n",
      "52500/52500 [==============================] - 2s 39us/step - loss: 0.5229 - accuracy: 0.7462\n",
      "Epoch 89/200\n",
      "52500/52500 [==============================] - 2s 35us/step - loss: 0.5226 - accuracy: 0.7472\n",
      "Epoch 90/200\n",
      "52500/52500 [==============================] - 2s 36us/step - loss: 0.5237 - accuracy: 0.7465\n",
      "Epoch 91/200\n",
      "52500/52500 [==============================] - 2s 37us/step - loss: 0.5203 - accuracy: 0.7477\n",
      "Epoch 92/200\n",
      "52500/52500 [==============================] - 2s 37us/step - loss: 0.5230 - accuracy: 0.7478\n",
      "Epoch 93/200\n",
      "52500/52500 [==============================] - 2s 37us/step - loss: 0.5205 - accuracy: 0.7463\n",
      "Epoch 94/200\n",
      "52500/52500 [==============================] - 2s 37us/step - loss: 0.5204 - accuracy: 0.7466\n",
      "Epoch 95/200\n",
      "52500/52500 [==============================] - 2s 38us/step - loss: 0.5233 - accuracy: 0.7474\n",
      "Epoch 96/200\n",
      "52500/52500 [==============================] - 2s 37us/step - loss: 0.5223 - accuracy: 0.7484\n",
      "Epoch 97/200\n",
      "52500/52500 [==============================] - 2s 38us/step - loss: 0.5229 - accuracy: 0.7471\n",
      "Epoch 98/200\n",
      "52500/52500 [==============================] - 2s 38us/step - loss: 0.5214 - accuracy: 0.7469\n",
      "Epoch 99/200\n",
      "52500/52500 [==============================] - 2s 38us/step - loss: 0.5202 - accuracy: 0.7474\n",
      "Epoch 100/200\n",
      "52500/52500 [==============================] - 2s 38us/step - loss: 0.5227 - accuracy: 0.7474\n",
      "Epoch 101/200\n",
      "52500/52500 [==============================] - 2s 36us/step - loss: 0.5216 - accuracy: 0.7474\n",
      "Epoch 102/200\n",
      "52500/52500 [==============================] - 2s 36us/step - loss: 0.5224 - accuracy: 0.7471\n",
      "Epoch 103/200\n",
      "52500/52500 [==============================] - 2s 37us/step - loss: 0.5197 - accuracy: 0.7470\n",
      "Epoch 104/200\n",
      "52500/52500 [==============================] - 2s 38us/step - loss: 0.5213 - accuracy: 0.7473\n",
      "Epoch 105/200\n",
      "52500/52500 [==============================] - 2s 38us/step - loss: 0.5226 - accuracy: 0.7476\n",
      "Epoch 106/200\n",
      "52500/52500 [==============================] - 2s 36us/step - loss: 0.5199 - accuracy: 0.7492\n",
      "Epoch 107/200\n",
      "52500/52500 [==============================] - 2s 37us/step - loss: 0.5199 - accuracy: 0.7486\n",
      "Epoch 108/200\n",
      "52500/52500 [==============================] - 2s 37us/step - loss: 0.5208 - accuracy: 0.7478\n",
      "Epoch 109/200\n",
      "52500/52500 [==============================] - 2s 36us/step - loss: 0.5192 - accuracy: 0.7482\n",
      "Epoch 110/200\n",
      "52500/52500 [==============================] - 2s 38us/step - loss: 0.5200 - accuracy: 0.7487\n",
      "Epoch 111/200\n",
      "52500/52500 [==============================] - 2s 38us/step - loss: 0.5196 - accuracy: 0.7485\n",
      "Epoch 112/200\n",
      "52500/52500 [==============================] - 2s 40us/step - loss: 0.5173 - accuracy: 0.7481\n",
      "Epoch 113/200\n",
      "52500/52500 [==============================] - 2s 38us/step - loss: 0.5183 - accuracy: 0.7496\n",
      "Epoch 114/200\n",
      "52500/52500 [==============================] - 2s 39us/step - loss: 0.5191 - accuracy: 0.7496\n",
      "Epoch 115/200\n",
      "52500/52500 [==============================] - 2s 41us/step - loss: 0.5175 - accuracy: 0.7492\n",
      "Epoch 116/200\n",
      "52500/52500 [==============================] - 2s 41us/step - loss: 0.5200 - accuracy: 0.7502\n",
      "Epoch 117/200\n",
      "52500/52500 [==============================] - 2s 44us/step - loss: 0.5198 - accuracy: 0.7501\n",
      "Epoch 118/200\n",
      "52500/52500 [==============================] - 2s 41us/step - loss: 0.5195 - accuracy: 0.7502\n",
      "Epoch 119/200\n",
      "52500/52500 [==============================] - 2s 40us/step - loss: 0.5189 - accuracy: 0.7506\n",
      "Epoch 120/200\n",
      "52500/52500 [==============================] - 2s 42us/step - loss: 0.5189 - accuracy: 0.7501\n",
      "Epoch 121/200\n",
      "52500/52500 [==============================] - 2s 37us/step - loss: 0.5167 - accuracy: 0.7494\n",
      "Epoch 122/200\n",
      "52500/52500 [==============================] - 2s 38us/step - loss: 0.5207 - accuracy: 0.7493\n",
      "Epoch 123/200\n",
      "52500/52500 [==============================] - 2s 39us/step - loss: 0.5178 - accuracy: 0.7503\n",
      "Epoch 124/200\n",
      "52500/52500 [==============================] - 2s 38us/step - loss: 0.5190 - accuracy: 0.7500\n",
      "Epoch 125/200\n",
      "52500/52500 [==============================] - 3s 57us/step - loss: 0.5186 - accuracy: 0.7503\n",
      "Epoch 126/200\n",
      "52500/52500 [==============================] - 3s 56us/step - loss: 0.5183 - accuracy: 0.7498\n",
      "Epoch 127/200\n",
      "52500/52500 [==============================] - 2s 36us/step - loss: 0.5191 - accuracy: 0.7508\n",
      "Epoch 128/200\n",
      "52500/52500 [==============================] - 2s 41us/step - loss: 0.5174 - accuracy: 0.7501\n",
      "Epoch 129/200\n",
      "52500/52500 [==============================] - 2s 36us/step - loss: 0.5180 - accuracy: 0.7501\n",
      "Epoch 130/200\n",
      "52500/52500 [==============================] - 2s 37us/step - loss: 0.5167 - accuracy: 0.7510\n",
      "Epoch 131/200\n",
      "52500/52500 [==============================] - 2s 35us/step - loss: 0.5186 - accuracy: 0.7507\n",
      "Epoch 132/200\n",
      "52500/52500 [==============================] - 2s 37us/step - loss: 0.5148 - accuracy: 0.7502\n",
      "Epoch 133/200\n",
      "52500/52500 [==============================] - 2s 38us/step - loss: 0.5177 - accuracy: 0.7495\n",
      "Epoch 134/200\n",
      "52500/52500 [==============================] - 2s 37us/step - loss: 0.5165 - accuracy: 0.7508\n",
      "Epoch 135/200\n",
      "52500/52500 [==============================] - 2s 38us/step - loss: 0.5199 - accuracy: 0.7512\n",
      "Epoch 136/200\n",
      "52500/52500 [==============================] - 2s 39us/step - loss: 0.5147 - accuracy: 0.7496\n",
      "Epoch 137/200\n",
      "52500/52500 [==============================] - 2s 37us/step - loss: 0.5146 - accuracy: 0.7517\n",
      "Epoch 138/200\n",
      "52500/52500 [==============================] - 2s 35us/step - loss: 0.5178 - accuracy: 0.7512\n",
      "Epoch 139/200\n",
      "52500/52500 [==============================] - 2s 37us/step - loss: 0.5167 - accuracy: 0.7523\n",
      "Epoch 140/200\n",
      "52500/52500 [==============================] - 2s 38us/step - loss: 0.5169 - accuracy: 0.7517\n",
      "Epoch 141/200\n",
      "52500/52500 [==============================] - 2s 37us/step - loss: 0.5170 - accuracy: 0.7516\n",
      "Epoch 142/200\n",
      "52500/52500 [==============================] - 2s 38us/step - loss: 0.5165 - accuracy: 0.7513 0s - loss: 0.513\n",
      "Epoch 143/200\n",
      "52500/52500 [==============================] - 2s 37us/step - loss: 0.5167 - accuracy: 0.7507\n",
      "Epoch 144/200\n",
      "52500/52500 [==============================] - 2s 38us/step - loss: 0.5147 - accuracy: 0.7522\n",
      "Epoch 145/200\n",
      "52500/52500 [==============================] - 2s 38us/step - loss: 0.5159 - accuracy: 0.7529 0s - loss: 0.5146 - \n",
      "Epoch 146/200\n",
      "52500/52500 [==============================] - 2s 39us/step - loss: 0.5159 - accuracy: 0.7507\n",
      "Epoch 147/200\n",
      "52500/52500 [==============================] - 2s 39us/step - loss: 0.5143 - accuracy: 0.7522\n",
      "Epoch 148/200\n",
      "52500/52500 [==============================] - 2s 36us/step - loss: 0.5177 - accuracy: 0.7513\n",
      "Epoch 149/200\n",
      "52500/52500 [==============================] - 2s 36us/step - loss: 0.5152 - accuracy: 0.7521\n",
      "Epoch 150/200\n",
      "52500/52500 [==============================] - 2s 38us/step - loss: 0.5170 - accuracy: 0.7521\n",
      "Epoch 151/200\n",
      "52500/52500 [==============================] - 2s 40us/step - loss: 0.5163 - accuracy: 0.7520\n",
      "Epoch 152/200\n",
      "52500/52500 [==============================] - 2s 40us/step - loss: 0.5173 - accuracy: 0.7512\n",
      "Epoch 153/200\n",
      "52500/52500 [==============================] - 2s 40us/step - loss: 0.5161 - accuracy: 0.7510\n",
      "Epoch 154/200\n",
      "52500/52500 [==============================] - 2s 41us/step - loss: 0.5164 - accuracy: 0.7526\n",
      "Epoch 155/200\n",
      "52500/52500 [==============================] - 2s 38us/step - loss: 0.5119 - accuracy: 0.7534\n",
      "Epoch 156/200\n",
      "52500/52500 [==============================] - 2s 39us/step - loss: 0.5171 - accuracy: 0.7528\n",
      "Epoch 157/200\n",
      "52500/52500 [==============================] - 2s 38us/step - loss: 0.5116 - accuracy: 0.7518\n",
      "Epoch 158/200\n",
      "52500/52500 [==============================] - 2s 38us/step - loss: 0.5151 - accuracy: 0.7525\n",
      "Epoch 159/200\n",
      "52500/52500 [==============================] - 2s 37us/step - loss: 0.5139 - accuracy: 0.7533\n",
      "Epoch 160/200\n",
      "52500/52500 [==============================] - 2s 41us/step - loss: 0.5120 - accuracy: 0.7527\n",
      "Epoch 161/200\n",
      "52500/52500 [==============================] - 4s 76us/step - loss: 0.5177 - accuracy: 0.7531\n",
      "Epoch 162/200\n",
      "52500/52500 [==============================] - 3s 52us/step - loss: 0.5139 - accuracy: 0.7521\n",
      "Epoch 163/200\n",
      "52500/52500 [==============================] - 2s 44us/step - loss: 0.5161 - accuracy: 0.7532\n",
      "Epoch 164/200\n",
      "52500/52500 [==============================] - 2s 39us/step - loss: 0.5158 - accuracy: 0.7519 0s - loss: 0.5097 \n",
      "Epoch 165/200\n",
      "52500/52500 [==============================] - 2s 39us/step - loss: 0.5133 - accuracy: 0.7537\n",
      "Epoch 166/200\n",
      "52500/52500 [==============================] - 3s 49us/step - loss: 0.5143 - accuracy: 0.7538\n",
      "Epoch 167/200\n",
      "52500/52500 [==============================] - 2s 38us/step - loss: 0.5149 - accuracy: 0.7542\n",
      "Epoch 168/200\n",
      "52500/52500 [==============================] - 2s 44us/step - loss: 0.5150 - accuracy: 0.7523\n",
      "Epoch 169/200\n",
      "52500/52500 [==============================] - 2s 40us/step - loss: 0.5150 - accuracy: 0.7535\n",
      "Epoch 170/200\n",
      "52500/52500 [==============================] - 2s 37us/step - loss: 0.5122 - accuracy: 0.7540\n",
      "Epoch 171/200\n",
      "52500/52500 [==============================] - 2s 37us/step - loss: 0.5147 - accuracy: 0.7523\n",
      "Epoch 172/200\n",
      "52500/52500 [==============================] - 2s 37us/step - loss: 0.5132 - accuracy: 0.7537\n",
      "Epoch 173/200\n",
      "52500/52500 [==============================] - 2s 37us/step - loss: 0.5128 - accuracy: 0.7542\n",
      "Epoch 174/200\n",
      "52500/52500 [==============================] - 2s 36us/step - loss: 0.5132 - accuracy: 0.7535\n",
      "Epoch 175/200\n",
      "52500/52500 [==============================] - 2s 37us/step - loss: 0.5132 - accuracy: 0.7540\n",
      "Epoch 176/200\n",
      "52500/52500 [==============================] - 2s 37us/step - loss: 0.5132 - accuracy: 0.7529\n",
      "Epoch 177/200\n",
      "52500/52500 [==============================] - 2s 37us/step - loss: 0.5117 - accuracy: 0.7533\n",
      "Epoch 178/200\n",
      "52500/52500 [==============================] - 2s 37us/step - loss: 0.5126 - accuracy: 0.7534\n",
      "Epoch 179/200\n",
      "52500/52500 [==============================] - 2s 37us/step - loss: 0.5132 - accuracy: 0.7542\n",
      "Epoch 180/200\n",
      "52500/52500 [==============================] - 2s 38us/step - loss: 0.5124 - accuracy: 0.7533\n",
      "Epoch 181/200\n",
      "52500/52500 [==============================] - 2s 37us/step - loss: 0.5135 - accuracy: 0.7542\n",
      "Epoch 182/200\n",
      "52500/52500 [==============================] - 2s 44us/step - loss: 0.5137 - accuracy: 0.7535\n",
      "Epoch 183/200\n",
      "52500/52500 [==============================] - 3s 59us/step - loss: 0.5134 - accuracy: 0.7542\n",
      "Epoch 184/200\n",
      "52500/52500 [==============================] - 4s 76us/step - loss: 0.5109 - accuracy: 0.7549\n",
      "Epoch 185/200\n",
      "52500/52500 [==============================] - 3s 50us/step - loss: 0.5130 - accuracy: 0.7540\n",
      "Epoch 186/200\n",
      "52500/52500 [==============================] - 2s 47us/step - loss: 0.5144 - accuracy: 0.7534\n",
      "Epoch 187/200\n",
      "52500/52500 [==============================] - 2s 44us/step - loss: 0.5124 - accuracy: 0.7531\n",
      "Epoch 188/200\n",
      "52500/52500 [==============================] - 2s 38us/step - loss: 0.5128 - accuracy: 0.7534\n",
      "Epoch 189/200\n",
      "52500/52500 [==============================] - 2s 41us/step - loss: 0.5122 - accuracy: 0.7556\n",
      "Epoch 190/200\n",
      "52500/52500 [==============================] - 2s 43us/step - loss: 0.5114 - accuracy: 0.7548\n",
      "Epoch 191/200\n",
      "52500/52500 [==============================] - 2s 40us/step - loss: 0.5131 - accuracy: 0.7532\n",
      "Epoch 192/200\n",
      "52500/52500 [==============================] - 2s 39us/step - loss: 0.5103 - accuracy: 0.7557\n",
      "Epoch 193/200\n",
      "52500/52500 [==============================] - 2s 36us/step - loss: 0.5108 - accuracy: 0.7548\n",
      "Epoch 194/200\n",
      "52500/52500 [==============================] - 2s 36us/step - loss: 0.5141 - accuracy: 0.7556\n",
      "Epoch 195/200\n",
      "52500/52500 [==============================] - 2s 37us/step - loss: 0.5125 - accuracy: 0.7542\n",
      "Epoch 196/200\n",
      "52500/52500 [==============================] - 2s 38us/step - loss: 0.5106 - accuracy: 0.7544\n",
      "Epoch 197/200\n",
      "52500/52500 [==============================] - 2s 38us/step - loss: 0.5102 - accuracy: 0.7539\n",
      "Epoch 198/200\n",
      "52500/52500 [==============================] - 3s 55us/step - loss: 0.5112 - accuracy: 0.7547\n",
      "Epoch 199/200\n",
      "52500/52500 [==============================] - 2s 42us/step - loss: 0.5094 - accuracy: 0.7544\n",
      "Epoch 200/200\n",
      "52500/52500 [==============================] - 2s 36us/step - loss: 0.5124 - accuracy: 0.7548\n"
     ]
    },
    {
     "data": {
      "text/plain": [
       "<keras.callbacks.callbacks.History at 0x22d38fd3fc8>"
      ]
     },
     "execution_count": 45,
     "metadata": {},
     "output_type": "execute_result"
    }
   ],
   "source": [
    "x_train = np.random.random((52500, 20))\n",
    "y_train = np.random.randint(2, size=(52500, 1))\n",
    "x_test = np.random.random((17500, 20))\n",
    "y_test = np.random.randint(2, size=(17500, 1))\n",
    "\n",
    "clf=Sequential()\n",
    "clf.add(Dense(64, activation = 'relu', input_dim = 20))\n",
    "clf.add(Dense(64, activation = 'relu'))\n",
    "clf.add(Dense(1, activation = 'sigmoid'))\n",
    "clf.compile(optimizer='rmsprop', loss='binary_crossentropy', metrics=['accuracy'])\n",
    "\n",
    "clf.fit(train_x, train_y, batch_size=100, nb_epoch=200)"
   ]
  },
  {
   "cell_type": "code",
   "execution_count": 48,
   "metadata": {},
   "outputs": [
    {
     "name": "stdout",
     "output_type": "stream",
     "text": [
      "17500/17500 [==============================] - ETA:  - 1s 44us/step\n",
      "[0.5921010016713824, 0.7176571488380432]\n"
     ]
    }
   ],
   "source": [
    "score = clf.evaluate(test_x, test_y)\n",
    "print(score)"
   ]
  },
  {
   "cell_type": "code",
   "execution_count": 47,
   "metadata": {},
   "outputs": [
    {
     "data": {
      "text/plain": [
       "array([[0.06197959],\n",
       "       [0.39431372],\n",
       "       [0.9269915 ],\n",
       "       [0.17760056],\n",
       "       [0.41515115],\n",
       "       [0.400299  ],\n",
       "       [0.8780524 ],\n",
       "       [0.5743269 ],\n",
       "       [0.01837492],\n",
       "       [0.13347873]], dtype=float32)"
      ]
     },
     "execution_count": 47,
     "metadata": {},
     "output_type": "execute_result"
    }
   ],
   "source": [
    "pred7 = clf.predict(test_x)\n",
    "pred7[:10]"
   ]
  }
 ],
 "metadata": {
  "kernelspec": {
   "display_name": "Python 3",
   "language": "python",
   "name": "python3"
  },
  "language_info": {
   "codemirror_mode": {
    "name": "ipython",
    "version": 3
   },
   "file_extension": ".py",
   "mimetype": "text/x-python",
   "name": "python",
   "nbconvert_exporter": "python",
   "pygments_lexer": "ipython3",
   "version": "3.7.4"
  }
 },
 "nbformat": 4,
 "nbformat_minor": 2
}
